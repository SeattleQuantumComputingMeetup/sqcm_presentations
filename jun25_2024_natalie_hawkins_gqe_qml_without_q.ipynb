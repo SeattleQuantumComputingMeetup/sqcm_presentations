{
 "cells": [
  {
   "cell_type": "markdown",
   "id": "75a89ca3-350c-4c2d-af22-e962d75288c7",
   "metadata": {},
   "source": [
    "# (AI+Q): GQE & (QML-Q): QIS Theory (dequantization)"
   ]
  },
  {
   "cell_type": "markdown",
   "id": "ffa6c58b-e893-4366-ad2c-0388281b6e01",
   "metadata": {},
   "source": [
    "2025 has been designated as the Year of the Quantum, so we better get started?!"
   ]
  },
  {
   "cell_type": "markdown",
   "id": "0d8148d3-30db-478d-8ab8-758f07946eb8",
   "metadata": {},
   "source": [
    "## Part 1: (QML-Q): QIS Theory (dequantization)"
   ]
  },
  {
   "cell_type": "markdown",
   "id": "62ff3a16-cd53-4c4c-9a0d-21ee1527312a",
   "metadata": {},
   "source": [
    "#### References:\n",
    "<ol>\n",
    "<li>Ewin Tang's Dissertation - Quantum Machine Learning Without Any Quantum, 154+ pgs </li>\n",
    "<li>Ewin Tang Wikipedia Entry </li>\n",
    "<li>Jarrod's paper</li>\n",
    "<li>Scott Aaronson's blog post </li>\n",
    "<li>QCWare Tokyo 2024 Closing Keynote </li>\n",
    "</ol>"
   ]
  },
  {
   "cell_type": "markdown",
   "id": "cec79f2a-e899-4d8e-9cc8-d579180ad1ea",
   "metadata": {},
   "source": [
    "#### Q: Can QML outperform classical ML?\n",
    "\n",
    "#### Q: When can we provably say that quantum algorithms cannot outperform classical algorithms? \n",
    "\n",
    "#### Q: How can we do QML without any Q?\n",
    "\n",
    "#### Q: What is dequantization?\n",
    "\n",
    "#### Q: How are quantum algs dequantized?\n",
    "\n",
    "#### Q: Which quantum algs have been dequantized?\n",
    "\n",
    "#### Q: What does this mean for our future? Hope?\n"
   ]
  },
  {
   "cell_type": "markdown",
   "id": "ce4cd6af-4f7d-4f9a-a8e3-1646b258174e",
   "metadata": {},
   "source": [
    "## Part 2: (AI+Q): GQE"
   ]
  },
  {
   "cell_type": "markdown",
   "id": "57994f6c-7612-4380-ae88-2d79e19dad0b",
   "metadata": {},
   "source": [
    "### References:\n",
    "\n",
    "<ol>\n",
    "<li>Paper from Alan Aspuru-Guzik's group, The Generative Quantum Eigensolver (GQE) and its application for ground state search </li>\n",
    "<li>CUDA Quantum</li>\n",
    "<li>Alan Aspuru-Guzik's, The Matter Lab, github </li>\n",
    "</ol>\n"
   ]
  },
  {
   "cell_type": "markdown",
   "id": "3844f4db-400e-4988-a690-0a18f49272af",
   "metadata": {},
   "source": [
    "#### Q: How is GQE an example of AI+Q?  What is GQE?\n",
    "\n",
    "#### Q: What about VQE - they have similar names, how do they compare?  \n",
    "\n",
    "#### Q: What can GQE be used for?\n",
    "\n",
    "#### Q: What did they do in the paper?\n",
    "\n",
    "#### Q: Where is the code for the paper?\n",
    "\n",
    "#### Q: How can we extend, expand on GQE?\n",
    "\n",
    "#### Q: What does this mean for our future?"
   ]
  },
  {
   "cell_type": "code",
   "execution_count": null,
   "id": "00b937e4-f055-4996-b168-d5a9d5b29306",
   "metadata": {},
   "outputs": [],
   "source": []
  }
 ],
 "metadata": {
  "kernelspec": {
   "display_name": "qk1_py312",
   "language": "python",
   "name": "qk1_py312"
  },
  "language_info": {
   "codemirror_mode": {
    "name": "ipython",
    "version": 3
   },
   "file_extension": ".py",
   "mimetype": "text/x-python",
   "name": "python",
   "nbconvert_exporter": "python",
   "pygments_lexer": "ipython3",
   "version": "3.12.3"
  }
 },
 "nbformat": 4,
 "nbformat_minor": 5
}
