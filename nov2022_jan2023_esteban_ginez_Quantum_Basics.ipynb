{
  "nbformat": 4,
  "nbformat_minor": 0,
  "metadata": {
    "colab": {
      "provenance": [],
      "authorship_tag": "ABX9TyP9EI71Mvacg5x38u9FhUOd"
    },
    "kernelspec": {
      "name": "python3",
      "display_name": "Python 3"
    },
    "language_info": {
      "name": "python"
    }
  },
  "cells": [
    {
      "cell_type": "code",
      "execution_count": null,
      "metadata": {
        "colab": {
          "base_uri": "https://localhost:8080/"
        },
        "id": "c-NatNhjScK-",
        "outputId": "b1664bd4-826e-4eca-cbc9-c9398dc8aebb"
      },
      "outputs": [
        {
          "output_type": "stream",
          "name": "stdout",
          "text": [
            "Looking in indexes: https://pypi.org/simple, https://us-python.pkg.dev/colab-wheels/public/simple/\n",
            "Collecting qiskit\n",
            "  Downloading qiskit-0.39.5.tar.gz (14 kB)\n",
            "  Preparing metadata (setup.py) ... \u001b[?25l\u001b[?25hdone\n",
            "Collecting qiskit-terra==0.22.4\n",
            "  Downloading qiskit_terra-0.22.4-cp38-cp38-manylinux_2_17_x86_64.manylinux2014_x86_64.whl (4.8 MB)\n",
            "\u001b[2K     \u001b[90m━━━━━━━━━━━━━━━━━━━━━━━━━━━━━━━━━━━━━━━━\u001b[0m \u001b[32m4.8/4.8 MB\u001b[0m \u001b[31m24.6 MB/s\u001b[0m eta \u001b[36m0:00:00\u001b[0m\n",
            "\u001b[?25hCollecting qiskit-aer==0.11.2\n",
            "  Downloading qiskit_aer-0.11.2-cp38-cp38-manylinux_2_17_x86_64.manylinux2014_x86_64.whl (12.8 MB)\n",
            "\u001b[2K     \u001b[90m━━━━━━━━━━━━━━━━━━━━━━━━━━━━━━━━━━━━━━━━\u001b[0m \u001b[32m12.8/12.8 MB\u001b[0m \u001b[31m35.1 MB/s\u001b[0m eta \u001b[36m0:00:00\u001b[0m\n",
            "\u001b[?25hCollecting qiskit-ibmq-provider==0.19.2\n",
            "  Downloading qiskit_ibmq_provider-0.19.2-py3-none-any.whl (240 kB)\n",
            "\u001b[2K     \u001b[90m━━━━━━━━━━━━━━━━━━━━━━━━━━━━━━━━━━━━━━━\u001b[0m \u001b[32m240.4/240.4 KB\u001b[0m \u001b[31m8.2 MB/s\u001b[0m eta \u001b[36m0:00:00\u001b[0m\n",
            "\u001b[?25hRequirement already satisfied: scipy>=1.0 in /usr/local/lib/python3.8/dist-packages (from qiskit-aer==0.11.2->qiskit) (1.7.3)\n",
            "Requirement already satisfied: numpy>=1.16.3 in /usr/local/lib/python3.8/dist-packages (from qiskit-aer==0.11.2->qiskit) (1.21.6)\n",
            "Collecting websocket-client>=1.0.1\n",
            "  Downloading websocket_client-1.4.2-py3-none-any.whl (55 kB)\n",
            "\u001b[2K     \u001b[90m━━━━━━━━━━━━━━━━━━━━━━━━━━━━━━━━━━━━━━━\u001b[0m \u001b[32m55.3/55.3 KB\u001b[0m \u001b[31m577.1 kB/s\u001b[0m eta \u001b[36m0:00:00\u001b[0m\n",
            "\u001b[?25hCollecting requests-ntlm>=1.1.0\n",
            "  Downloading requests_ntlm-1.1.0-py2.py3-none-any.whl (5.7 kB)\n",
            "Requirement already satisfied: requests>=2.19 in /usr/local/lib/python3.8/dist-packages (from qiskit-ibmq-provider==0.19.2->qiskit) (2.25.1)\n",
            "Collecting websockets>=10.0\n",
            "  Downloading websockets-10.4-cp38-cp38-manylinux_2_5_x86_64.manylinux1_x86_64.manylinux_2_17_x86_64.manylinux2014_x86_64.whl (106 kB)\n",
            "\u001b[2K     \u001b[90m━━━━━━━━━━━━━━━━━━━━━━━━━━━━━━━━━━━━━━━\u001b[0m \u001b[32m107.0/107.0 KB\u001b[0m \u001b[31m4.4 MB/s\u001b[0m eta \u001b[36m0:00:00\u001b[0m\n",
            "\u001b[?25hRequirement already satisfied: python-dateutil>=2.8.0 in /usr/local/lib/python3.8/dist-packages (from qiskit-ibmq-provider==0.19.2->qiskit) (2.8.2)\n",
            "Requirement already satisfied: urllib3>=1.21.1 in /usr/local/lib/python3.8/dist-packages (from qiskit-ibmq-provider==0.19.2->qiskit) (1.24.3)\n",
            "Collecting stevedore>=3.0.0\n",
            "  Downloading stevedore-4.1.1-py3-none-any.whl (50 kB)\n",
            "\u001b[2K     \u001b[90m━━━━━━━━━━━━━━━━━━━━━━━━━━━━━━━━━━━━━━━━\u001b[0m \u001b[32m50.0/50.0 KB\u001b[0m \u001b[31m1.7 MB/s\u001b[0m eta \u001b[36m0:00:00\u001b[0m\n",
            "\u001b[?25hCollecting ply>=3.10\n",
            "  Downloading ply-3.11-py2.py3-none-any.whl (49 kB)\n",
            "\u001b[2K     \u001b[90m━━━━━━━━━━━━━━━━━━━━━━━━━━━━━━━━━━━━━━━━\u001b[0m \u001b[32m49.6/49.6 KB\u001b[0m \u001b[31m2.5 MB/s\u001b[0m eta \u001b[36m0:00:00\u001b[0m\n",
            "\u001b[?25hRequirement already satisfied: sympy>=1.3 in /usr/local/lib/python3.8/dist-packages (from qiskit-terra==0.22.4->qiskit) (1.7.1)\n",
            "Requirement already satisfied: psutil>=5 in /usr/local/lib/python3.8/dist-packages (from qiskit-terra==0.22.4->qiskit) (5.4.8)\n",
            "Requirement already satisfied: dill>=0.3 in /usr/local/lib/python3.8/dist-packages (from qiskit-terra==0.22.4->qiskit) (0.3.6)\n",
            "Collecting retworkx>=0.11.0\n",
            "  Downloading retworkx-0.12.1-py3-none-any.whl (10 kB)\n",
            "Collecting symengine>=0.9\n",
            "  Downloading symengine-0.9.2-cp38-cp38-manylinux2010_x86_64.whl (37.5 MB)\n",
            "\u001b[2K     \u001b[90m━━━━━━━━━━━━━━━━━━━━━━━━━━━━━━━━━━━━━━━━\u001b[0m \u001b[32m37.5/37.5 MB\u001b[0m \u001b[31m14.6 MB/s\u001b[0m eta \u001b[36m0:00:00\u001b[0m\n",
            "\u001b[?25hCollecting tweedledum<2.0,>=1.1\n",
            "  Downloading tweedledum-1.1.1-cp38-cp38-manylinux_2_12_x86_64.manylinux2010_x86_64.whl (929 kB)\n",
            "\u001b[2K     \u001b[90m━━━━━━━━━━━━━━━━━━━━━━━━━━━━━━━━━━━━━━\u001b[0m \u001b[32m929.9/929.9 KB\u001b[0m \u001b[31m41.7 MB/s\u001b[0m eta \u001b[36m0:00:00\u001b[0m\n",
            "\u001b[?25hRequirement already satisfied: six>=1.5 in /usr/local/lib/python3.8/dist-packages (from python-dateutil>=2.8.0->qiskit-ibmq-provider==0.19.2->qiskit) (1.15.0)\n",
            "Requirement already satisfied: chardet<5,>=3.0.2 in /usr/local/lib/python3.8/dist-packages (from requests>=2.19->qiskit-ibmq-provider==0.19.2->qiskit) (4.0.0)\n",
            "Requirement already satisfied: idna<3,>=2.5 in /usr/local/lib/python3.8/dist-packages (from requests>=2.19->qiskit-ibmq-provider==0.19.2->qiskit) (2.10)\n",
            "Requirement already satisfied: certifi>=2017.4.17 in /usr/local/lib/python3.8/dist-packages (from requests>=2.19->qiskit-ibmq-provider==0.19.2->qiskit) (2022.12.7)\n",
            "Collecting ntlm-auth>=1.0.2\n",
            "  Downloading ntlm_auth-1.5.0-py2.py3-none-any.whl (29 kB)\n",
            "Collecting cryptography>=1.3\n",
            "  Downloading cryptography-39.0.0-cp36-abi3-manylinux_2_28_x86_64.whl (4.2 MB)\n",
            "\u001b[2K     \u001b[90m━━━━━━━━━━━━━━━━━━━━━━━━━━━━━━━━━━━━━━━━\u001b[0m \u001b[32m4.2/4.2 MB\u001b[0m \u001b[31m52.2 MB/s\u001b[0m eta \u001b[36m0:00:00\u001b[0m\n",
            "\u001b[?25hCollecting rustworkx==0.12.1\n",
            "  Downloading rustworkx-0.12.1-cp38-cp38-manylinux_2_17_x86_64.manylinux2014_x86_64.whl (1.9 MB)\n",
            "\u001b[2K     \u001b[90m━━━━━━━━━━━━━━━━━━━━━━━━━━━━━━━━━━━━━━━━\u001b[0m \u001b[32m1.9/1.9 MB\u001b[0m \u001b[31m60.4 MB/s\u001b[0m eta \u001b[36m0:00:00\u001b[0m\n",
            "\u001b[?25hCollecting pbr!=2.1.0,>=2.0.0\n",
            "  Downloading pbr-5.11.1-py2.py3-none-any.whl (112 kB)\n",
            "\u001b[2K     \u001b[90m━━━━━━━━━━━━━━━━━━━━━━━━━━━━━━━━━━━━━━━\u001b[0m \u001b[32m112.7/112.7 KB\u001b[0m \u001b[31m7.5 MB/s\u001b[0m eta \u001b[36m0:00:00\u001b[0m\n",
            "\u001b[?25hRequirement already satisfied: mpmath>=0.19 in /usr/local/lib/python3.8/dist-packages (from sympy>=1.3->qiskit-terra==0.22.4->qiskit) (1.2.1)\n",
            "Requirement already satisfied: cffi>=1.12 in /usr/local/lib/python3.8/dist-packages (from cryptography>=1.3->requests-ntlm>=1.1.0->qiskit-ibmq-provider==0.19.2->qiskit) (1.15.1)\n",
            "Requirement already satisfied: pycparser in /usr/local/lib/python3.8/dist-packages (from cffi>=1.12->cryptography>=1.3->requests-ntlm>=1.1.0->qiskit-ibmq-provider==0.19.2->qiskit) (2.21)\n",
            "Building wheels for collected packages: qiskit\n",
            "  Building wheel for qiskit (setup.py) ... \u001b[?25l\u001b[?25hdone\n",
            "  Created wheel for qiskit: filename=qiskit-0.39.5-py3-none-any.whl size=12819 sha256=4c00e1cdd11bd804098ab74e566cb946193fff98c24f45829668d42627bff2f7\n",
            "  Stored in directory: /root/.cache/pip/wheels/3a/51/61/70d5c6bdd5b91e78cfb59cf28ab759fac314d1c990dc93ff36\n",
            "Successfully built qiskit\n",
            "Installing collected packages: ply, websockets, websocket-client, tweedledum, symengine, rustworkx, pbr, ntlm-auth, stevedore, retworkx, cryptography, requests-ntlm, qiskit-terra, qiskit-ibmq-provider, qiskit-aer, qiskit\n",
            "Successfully installed cryptography-39.0.0 ntlm-auth-1.5.0 pbr-5.11.1 ply-3.11 qiskit-0.39.5 qiskit-aer-0.11.2 qiskit-ibmq-provider-0.19.2 qiskit-terra-0.22.4 requests-ntlm-1.1.0 retworkx-0.12.1 rustworkx-0.12.1 stevedore-4.1.1 symengine-0.9.2 tweedledum-1.1.1 websocket-client-1.4.2 websockets-10.4\n",
            "Looking in indexes: https://pypi.org/simple, https://us-python.pkg.dev/colab-wheels/public/simple/\n",
            "Requirement already satisfied: numpy in /usr/local/lib/python3.8/dist-packages (1.21.6)\n",
            "Looking in indexes: https://pypi.org/simple, https://us-python.pkg.dev/colab-wheels/public/simple/\n",
            "Collecting git+https://github.com/qiskit-community/qiskit-textbook.git#subdirectory=qiskit-textbook-src\n",
            "  Cloning https://github.com/qiskit-community/qiskit-textbook.git to /tmp/pip-req-build-n8aizcjs\n",
            "  Running command git clone --filter=blob:none --quiet https://github.com/qiskit-community/qiskit-textbook.git /tmp/pip-req-build-n8aizcjs\n",
            "  Resolved https://github.com/qiskit-community/qiskit-textbook.git to commit 85ba91fef057a425cd2cb7ce58999e9334b75f4c\n",
            "  Preparing metadata (setup.py) ... \u001b[?25l\u001b[?25hdone\n",
            "Requirement already satisfied: qiskit in /usr/local/lib/python3.8/dist-packages (from qiskit-textbook==0.1.0) (0.39.5)\n",
            "Requirement already satisfied: ipython in /usr/local/lib/python3.8/dist-packages (from qiskit-textbook==0.1.0) (7.9.0)\n",
            "Requirement already satisfied: ipywidgets in /usr/local/lib/python3.8/dist-packages (from qiskit-textbook==0.1.0) (7.7.1)\n",
            "Requirement already satisfied: numpy in /usr/local/lib/python3.8/dist-packages (from qiskit-textbook==0.1.0) (1.21.6)\n",
            "Requirement already satisfied: matplotlib in /usr/local/lib/python3.8/dist-packages (from qiskit-textbook==0.1.0) (3.2.2)\n",
            "Requirement already satisfied: numexpr in /usr/local/lib/python3.8/dist-packages (from qiskit-textbook==0.1.0) (2.8.4)\n",
            "Requirement already satisfied: pexpect in /usr/local/lib/python3.8/dist-packages (from ipython->qiskit-textbook==0.1.0) (4.8.0)\n",
            "Requirement already satisfied: decorator in /usr/local/lib/python3.8/dist-packages (from ipython->qiskit-textbook==0.1.0) (4.4.2)\n",
            "Requirement already satisfied: setuptools>=18.5 in /usr/local/lib/python3.8/dist-packages (from ipython->qiskit-textbook==0.1.0) (57.4.0)\n",
            "Collecting jedi>=0.10\n",
            "  Downloading jedi-0.18.2-py2.py3-none-any.whl (1.6 MB)\n",
            "\u001b[2K     \u001b[90m━━━━━━━━━━━━━━━━━━━━━━━━━━━━━━━━━━━━━━━━\u001b[0m \u001b[32m1.6/1.6 MB\u001b[0m \u001b[31m21.4 MB/s\u001b[0m eta \u001b[36m0:00:00\u001b[0m\n",
            "\u001b[?25hRequirement already satisfied: pygments in /usr/local/lib/python3.8/dist-packages (from ipython->qiskit-textbook==0.1.0) (2.6.1)\n",
            "Requirement already satisfied: prompt-toolkit<2.1.0,>=2.0.0 in /usr/local/lib/python3.8/dist-packages (from ipython->qiskit-textbook==0.1.0) (2.0.10)\n",
            "Requirement already satisfied: pickleshare in /usr/local/lib/python3.8/dist-packages (from ipython->qiskit-textbook==0.1.0) (0.7.5)\n",
            "Requirement already satisfied: traitlets>=4.2 in /usr/local/lib/python3.8/dist-packages (from ipython->qiskit-textbook==0.1.0) (5.7.1)\n",
            "Requirement already satisfied: backcall in /usr/local/lib/python3.8/dist-packages (from ipython->qiskit-textbook==0.1.0) (0.2.0)\n",
            "Requirement already satisfied: ipython-genutils~=0.2.0 in /usr/local/lib/python3.8/dist-packages (from ipywidgets->qiskit-textbook==0.1.0) (0.2.0)\n",
            "Requirement already satisfied: widgetsnbextension~=3.6.0 in /usr/local/lib/python3.8/dist-packages (from ipywidgets->qiskit-textbook==0.1.0) (3.6.1)\n",
            "Requirement already satisfied: ipykernel>=4.5.1 in /usr/local/lib/python3.8/dist-packages (from ipywidgets->qiskit-textbook==0.1.0) (5.3.4)\n",
            "Requirement already satisfied: jupyterlab-widgets>=1.0.0 in /usr/local/lib/python3.8/dist-packages (from ipywidgets->qiskit-textbook==0.1.0) (3.0.5)\n",
            "Requirement already satisfied: cycler>=0.10 in /usr/local/lib/python3.8/dist-packages (from matplotlib->qiskit-textbook==0.1.0) (0.11.0)\n",
            "Requirement already satisfied: pyparsing!=2.0.4,!=2.1.2,!=2.1.6,>=2.0.1 in /usr/local/lib/python3.8/dist-packages (from matplotlib->qiskit-textbook==0.1.0) (3.0.9)\n",
            "Requirement already satisfied: kiwisolver>=1.0.1 in /usr/local/lib/python3.8/dist-packages (from matplotlib->qiskit-textbook==0.1.0) (1.4.4)\n",
            "Requirement already satisfied: python-dateutil>=2.1 in /usr/local/lib/python3.8/dist-packages (from matplotlib->qiskit-textbook==0.1.0) (2.8.2)\n",
            "Requirement already satisfied: qiskit-aer==0.11.2 in /usr/local/lib/python3.8/dist-packages (from qiskit->qiskit-textbook==0.1.0) (0.11.2)\n",
            "Requirement already satisfied: qiskit-terra==0.22.4 in /usr/local/lib/python3.8/dist-packages (from qiskit->qiskit-textbook==0.1.0) (0.22.4)\n",
            "Requirement already satisfied: qiskit-ibmq-provider==0.19.2 in /usr/local/lib/python3.8/dist-packages (from qiskit->qiskit-textbook==0.1.0) (0.19.2)\n",
            "Requirement already satisfied: scipy>=1.0 in /usr/local/lib/python3.8/dist-packages (from qiskit-aer==0.11.2->qiskit->qiskit-textbook==0.1.0) (1.7.3)\n",
            "Requirement already satisfied: websocket-client>=1.0.1 in /usr/local/lib/python3.8/dist-packages (from qiskit-ibmq-provider==0.19.2->qiskit->qiskit-textbook==0.1.0) (1.4.2)\n",
            "Requirement already satisfied: urllib3>=1.21.1 in /usr/local/lib/python3.8/dist-packages (from qiskit-ibmq-provider==0.19.2->qiskit->qiskit-textbook==0.1.0) (1.24.3)\n",
            "Requirement already satisfied: requests-ntlm>=1.1.0 in /usr/local/lib/python3.8/dist-packages (from qiskit-ibmq-provider==0.19.2->qiskit->qiskit-textbook==0.1.0) (1.1.0)\n",
            "Requirement already satisfied: websockets>=10.0 in /usr/local/lib/python3.8/dist-packages (from qiskit-ibmq-provider==0.19.2->qiskit->qiskit-textbook==0.1.0) (10.4)\n",
            "Requirement already satisfied: requests>=2.19 in /usr/local/lib/python3.8/dist-packages (from qiskit-ibmq-provider==0.19.2->qiskit->qiskit-textbook==0.1.0) (2.25.1)\n",
            "Requirement already satisfied: stevedore>=3.0.0 in /usr/local/lib/python3.8/dist-packages (from qiskit-terra==0.22.4->qiskit->qiskit-textbook==0.1.0) (4.1.1)\n",
            "Requirement already satisfied: dill>=0.3 in /usr/local/lib/python3.8/dist-packages (from qiskit-terra==0.22.4->qiskit->qiskit-textbook==0.1.0) (0.3.6)\n",
            "Requirement already satisfied: tweedledum<2.0,>=1.1 in /usr/local/lib/python3.8/dist-packages (from qiskit-terra==0.22.4->qiskit->qiskit-textbook==0.1.0) (1.1.1)\n",
            "Requirement already satisfied: ply>=3.10 in /usr/local/lib/python3.8/dist-packages (from qiskit-terra==0.22.4->qiskit->qiskit-textbook==0.1.0) (3.11)\n",
            "Requirement already satisfied: symengine>=0.9 in /usr/local/lib/python3.8/dist-packages (from qiskit-terra==0.22.4->qiskit->qiskit-textbook==0.1.0) (0.9.2)\n",
            "Requirement already satisfied: psutil>=5 in /usr/local/lib/python3.8/dist-packages (from qiskit-terra==0.22.4->qiskit->qiskit-textbook==0.1.0) (5.4.8)\n",
            "Requirement already satisfied: retworkx>=0.11.0 in /usr/local/lib/python3.8/dist-packages (from qiskit-terra==0.22.4->qiskit->qiskit-textbook==0.1.0) (0.12.1)\n",
            "Requirement already satisfied: sympy>=1.3 in /usr/local/lib/python3.8/dist-packages (from qiskit-terra==0.22.4->qiskit->qiskit-textbook==0.1.0) (1.7.1)\n",
            "Requirement already satisfied: jupyter-client in /usr/local/lib/python3.8/dist-packages (from ipykernel>=4.5.1->ipywidgets->qiskit-textbook==0.1.0) (6.1.12)\n",
            "Requirement already satisfied: tornado>=4.2 in /usr/local/lib/python3.8/dist-packages (from ipykernel>=4.5.1->ipywidgets->qiskit-textbook==0.1.0) (6.0.4)\n",
            "Requirement already satisfied: parso<0.9.0,>=0.8.0 in /usr/local/lib/python3.8/dist-packages (from jedi>=0.10->ipython->qiskit-textbook==0.1.0) (0.8.3)\n",
            "Requirement already satisfied: six>=1.9.0 in /usr/local/lib/python3.8/dist-packages (from prompt-toolkit<2.1.0,>=2.0.0->ipython->qiskit-textbook==0.1.0) (1.15.0)\n",
            "Requirement already satisfied: wcwidth in /usr/local/lib/python3.8/dist-packages (from prompt-toolkit<2.1.0,>=2.0.0->ipython->qiskit-textbook==0.1.0) (0.2.5)\n",
            "Requirement already satisfied: notebook>=4.4.1 in /usr/local/lib/python3.8/dist-packages (from widgetsnbextension~=3.6.0->ipywidgets->qiskit-textbook==0.1.0) (5.7.16)\n",
            "Requirement already satisfied: ptyprocess>=0.5 in /usr/local/lib/python3.8/dist-packages (from pexpect->ipython->qiskit-textbook==0.1.0) (0.7.0)\n",
            "Requirement already satisfied: pyzmq>=17 in /usr/local/lib/python3.8/dist-packages (from notebook>=4.4.1->widgetsnbextension~=3.6.0->ipywidgets->qiskit-textbook==0.1.0) (23.2.1)\n",
            "Requirement already satisfied: prometheus-client in /usr/local/lib/python3.8/dist-packages (from notebook>=4.4.1->widgetsnbextension~=3.6.0->ipywidgets->qiskit-textbook==0.1.0) (0.15.0)\n",
            "Requirement already satisfied: terminado>=0.8.1 in /usr/local/lib/python3.8/dist-packages (from notebook>=4.4.1->widgetsnbextension~=3.6.0->ipywidgets->qiskit-textbook==0.1.0) (0.13.3)\n",
            "Requirement already satisfied: nbconvert<6.0 in /usr/local/lib/python3.8/dist-packages (from notebook>=4.4.1->widgetsnbextension~=3.6.0->ipywidgets->qiskit-textbook==0.1.0) (5.6.1)\n",
            "Requirement already satisfied: jupyter-core>=4.4.0 in /usr/local/lib/python3.8/dist-packages (from notebook>=4.4.1->widgetsnbextension~=3.6.0->ipywidgets->qiskit-textbook==0.1.0) (5.1.3)\n",
            "Requirement already satisfied: Send2Trash in /usr/local/lib/python3.8/dist-packages (from notebook>=4.4.1->widgetsnbextension~=3.6.0->ipywidgets->qiskit-textbook==0.1.0) (1.8.0)\n",
            "Requirement already satisfied: jinja2<=3.0.0 in /usr/local/lib/python3.8/dist-packages (from notebook>=4.4.1->widgetsnbextension~=3.6.0->ipywidgets->qiskit-textbook==0.1.0) (2.11.3)\n",
            "Requirement already satisfied: nbformat in /usr/local/lib/python3.8/dist-packages (from notebook>=4.4.1->widgetsnbextension~=3.6.0->ipywidgets->qiskit-textbook==0.1.0) (5.7.1)\n",
            "Requirement already satisfied: idna<3,>=2.5 in /usr/local/lib/python3.8/dist-packages (from requests>=2.19->qiskit-ibmq-provider==0.19.2->qiskit->qiskit-textbook==0.1.0) (2.10)\n",
            "Requirement already satisfied: chardet<5,>=3.0.2 in /usr/local/lib/python3.8/dist-packages (from requests>=2.19->qiskit-ibmq-provider==0.19.2->qiskit->qiskit-textbook==0.1.0) (4.0.0)\n",
            "Requirement already satisfied: certifi>=2017.4.17 in /usr/local/lib/python3.8/dist-packages (from requests>=2.19->qiskit-ibmq-provider==0.19.2->qiskit->qiskit-textbook==0.1.0) (2022.12.7)\n",
            "Requirement already satisfied: ntlm-auth>=1.0.2 in /usr/local/lib/python3.8/dist-packages (from requests-ntlm>=1.1.0->qiskit-ibmq-provider==0.19.2->qiskit->qiskit-textbook==0.1.0) (1.5.0)\n",
            "Requirement already satisfied: cryptography>=1.3 in /usr/local/lib/python3.8/dist-packages (from requests-ntlm>=1.1.0->qiskit-ibmq-provider==0.19.2->qiskit->qiskit-textbook==0.1.0) (39.0.0)\n",
            "Requirement already satisfied: rustworkx==0.12.1 in /usr/local/lib/python3.8/dist-packages (from retworkx>=0.11.0->qiskit-terra==0.22.4->qiskit->qiskit-textbook==0.1.0) (0.12.1)\n",
            "Requirement already satisfied: pbr!=2.1.0,>=2.0.0 in /usr/local/lib/python3.8/dist-packages (from stevedore>=3.0.0->qiskit-terra==0.22.4->qiskit->qiskit-textbook==0.1.0) (5.11.1)\n",
            "Requirement already satisfied: mpmath>=0.19 in /usr/local/lib/python3.8/dist-packages (from sympy>=1.3->qiskit-terra==0.22.4->qiskit->qiskit-textbook==0.1.0) (1.2.1)\n",
            "Requirement already satisfied: cffi>=1.12 in /usr/local/lib/python3.8/dist-packages (from cryptography>=1.3->requests-ntlm>=1.1.0->qiskit-ibmq-provider==0.19.2->qiskit->qiskit-textbook==0.1.0) (1.15.1)\n",
            "Requirement already satisfied: MarkupSafe>=0.23 in /usr/local/lib/python3.8/dist-packages (from jinja2<=3.0.0->notebook>=4.4.1->widgetsnbextension~=3.6.0->ipywidgets->qiskit-textbook==0.1.0) (2.0.1)\n",
            "Requirement already satisfied: platformdirs>=2.5 in /usr/local/lib/python3.8/dist-packages (from jupyter-core>=4.4.0->notebook>=4.4.1->widgetsnbextension~=3.6.0->ipywidgets->qiskit-textbook==0.1.0) (2.6.2)\n",
            "Requirement already satisfied: mistune<2,>=0.8.1 in /usr/local/lib/python3.8/dist-packages (from nbconvert<6.0->notebook>=4.4.1->widgetsnbextension~=3.6.0->ipywidgets->qiskit-textbook==0.1.0) (0.8.4)\n",
            "Requirement already satisfied: defusedxml in /usr/local/lib/python3.8/dist-packages (from nbconvert<6.0->notebook>=4.4.1->widgetsnbextension~=3.6.0->ipywidgets->qiskit-textbook==0.1.0) (0.7.1)\n",
            "Requirement already satisfied: pandocfilters>=1.4.1 in /usr/local/lib/python3.8/dist-packages (from nbconvert<6.0->notebook>=4.4.1->widgetsnbextension~=3.6.0->ipywidgets->qiskit-textbook==0.1.0) (1.5.0)\n",
            "Requirement already satisfied: bleach in /usr/local/lib/python3.8/dist-packages (from nbconvert<6.0->notebook>=4.4.1->widgetsnbextension~=3.6.0->ipywidgets->qiskit-textbook==0.1.0) (5.0.1)\n",
            "Requirement already satisfied: entrypoints>=0.2.2 in /usr/local/lib/python3.8/dist-packages (from nbconvert<6.0->notebook>=4.4.1->widgetsnbextension~=3.6.0->ipywidgets->qiskit-textbook==0.1.0) (0.4)\n",
            "Requirement already satisfied: testpath in /usr/local/lib/python3.8/dist-packages (from nbconvert<6.0->notebook>=4.4.1->widgetsnbextension~=3.6.0->ipywidgets->qiskit-textbook==0.1.0) (0.6.0)\n",
            "Requirement already satisfied: fastjsonschema in /usr/local/lib/python3.8/dist-packages (from nbformat->notebook>=4.4.1->widgetsnbextension~=3.6.0->ipywidgets->qiskit-textbook==0.1.0) (2.16.2)\n",
            "Requirement already satisfied: jsonschema>=2.6 in /usr/local/lib/python3.8/dist-packages (from nbformat->notebook>=4.4.1->widgetsnbextension~=3.6.0->ipywidgets->qiskit-textbook==0.1.0) (4.3.3)\n",
            "Requirement already satisfied: pycparser in /usr/local/lib/python3.8/dist-packages (from cffi>=1.12->cryptography>=1.3->requests-ntlm>=1.1.0->qiskit-ibmq-provider==0.19.2->qiskit->qiskit-textbook==0.1.0) (2.21)\n",
            "Requirement already satisfied: pyrsistent!=0.17.0,!=0.17.1,!=0.17.2,>=0.14.0 in /usr/local/lib/python3.8/dist-packages (from jsonschema>=2.6->nbformat->notebook>=4.4.1->widgetsnbextension~=3.6.0->ipywidgets->qiskit-textbook==0.1.0) (0.19.3)\n",
            "Requirement already satisfied: attrs>=17.4.0 in /usr/local/lib/python3.8/dist-packages (from jsonschema>=2.6->nbformat->notebook>=4.4.1->widgetsnbextension~=3.6.0->ipywidgets->qiskit-textbook==0.1.0) (22.2.0)\n",
            "Requirement already satisfied: importlib-resources>=1.4.0 in /usr/local/lib/python3.8/dist-packages (from jsonschema>=2.6->nbformat->notebook>=4.4.1->widgetsnbextension~=3.6.0->ipywidgets->qiskit-textbook==0.1.0) (5.10.2)\n",
            "Requirement already satisfied: webencodings in /usr/local/lib/python3.8/dist-packages (from bleach->nbconvert<6.0->notebook>=4.4.1->widgetsnbextension~=3.6.0->ipywidgets->qiskit-textbook==0.1.0) (0.5.1)\n",
            "Requirement already satisfied: zipp>=3.1.0 in /usr/local/lib/python3.8/dist-packages (from importlib-resources>=1.4.0->jsonschema>=2.6->nbformat->notebook>=4.4.1->widgetsnbextension~=3.6.0->ipywidgets->qiskit-textbook==0.1.0) (3.11.0)\n",
            "Building wheels for collected packages: qiskit-textbook\n",
            "  Building wheel for qiskit-textbook (setup.py) ... \u001b[?25l\u001b[?25hdone\n",
            "  Created wheel for qiskit-textbook: filename=qiskit_textbook-0.1.0-py3-none-any.whl size=17557 sha256=3ebc0d515c0d8bd578a19b1beff72adebd47a3616db3e72587745236628947a0\n",
            "  Stored in directory: /tmp/pip-ephem-wheel-cache-gpn57r6h/wheels/80/c4/dd/b7ea1ee2a7247e8997db78bc777bbe22e61ab1e5ed1c4b46e1\n",
            "Successfully built qiskit-textbook\n",
            "Installing collected packages: jedi, qiskit-textbook\n",
            "Successfully installed jedi-0.18.2 qiskit-textbook-0.1.0\n"
          ]
        }
      ],
      "source": [
        "!pip install qiskit\n",
        "!pip install numpy\n",
        "!pip3 install git+https://github.com/qiskit-community/qiskit-textbook.git#subdirectory=qiskit-textbook-src\n",
        "\n",
        "\n",
        "\n"
      ]
    },
    {
      "cell_type": "code",
      "source": [
        "!curl -s https://raw.githubusercontent.com/eginez/qiskit-exp/main/src/qiskitOne.ipynb > qiskitOne.ipynb\n",
        "%run qiskitOne.ipynb"
      ],
      "metadata": {
        "id": "JhRftJfiKfqT",
        "colab": {
          "base_uri": "https://localhost:8080/",
          "height": 1000
        },
        "outputId": "63b04baa-2cb1-467a-ef51-1694507f1cbe"
      },
      "execution_count": null,
      "outputs": [
        {
          "output_type": "display_data",
          "data": {
            "text/plain": [
              "<Figure size 720x1080 with 4 Axes>"
            ],
            "image/png": "[encoded data removed]"
          },
          "metadata": {
            "needs_background": "light"
          }
        },
        {
          "output_type": "display_data",
          "data": {
            "text/plain": [
              "<Figure size 720x1080 with 2 Axes>"
            ],
            "image/png": "[encoded data removed]"
          },
          "metadata": {
            "needs_background": "light"
          }
        }
      ]
    },
    {
      "cell_type": "markdown",
      "source": [
        "## Agenda\n",
        "- Why quantum computing?\n",
        "- A simple representation.\n",
        "- Measuring qbits.\n",
        "- Some simple one qubit gates"
      ],
      "metadata": {
        "id": "O7Yl95CDTduF"
      }
    },
    {
      "cell_type": "markdown",
      "source": [
        "# Why quantum\n",
        "Suppouse you want to find out how many ones you have in a secret string s. To do this classicaly you would need to query each of the characters/bits of s for example"
      ],
      "metadata": {
        "id": "w4lCvMklM34C"
      }
    },
    {
      "cell_type": "code",
      "source": [
        "def secret_str(num_bits: int = 3) -> str:\n",
        "  import random\n",
        "  res = ''\n",
        "  for i in range(num_bits):\n",
        "    n = random.random()\n",
        "    if n > 0.5:\n",
        "      res += '1'\n",
        "    else:\n",
        "      res += '0'\n",
        "  return res\n",
        "\n",
        "SECRET_STR = secret_str(3)\n",
        "\n"
      ],
      "metadata": {
        "id": "PQSZJvWTNLnm"
      },
      "execution_count": null,
      "outputs": []
    },
    {
      "cell_type": "code",
      "source": [
        "def query_secret(pos_to_query: int) -> str: # <=== We can think of this as classical oracle\n",
        "  return SECRET_STR[pos_to_query]\n",
        "\n",
        "from typing import Tuple\n",
        "\n",
        "def discover_secret(secrent_len: int) -> Tuple[str, int]:\n",
        "  discovered_secret = ''\n",
        "  count = 0\n",
        "  for i in range(secrent_len):\n",
        "    count += 1\n",
        "    if query_secret(i) == '0':\n",
        "      discovered_secret += '0'\n",
        "    else:\n",
        "      discovered_secret += '1'\n",
        "  return discovered_secret, count\n",
        "\n",
        "\n",
        "d, called = discover_secret(len(SECRET_STR))\n",
        "if d == SECRET_STR:\n",
        "  print(f'Discovered secret: {d} with {called} calls to the classical oracle' )"
      ],
      "metadata": {
        "colab": {
          "base_uri": "https://localhost:8080/"
        },
        "id": "xIShOapcOGQe",
        "outputId": "bac8b2d5-6f9c-409b-8394-7bd857b51da7"
      },
      "execution_count": null,
      "outputs": [
        {
          "output_type": "stream",
          "name": "stdout",
          "text": [
            "Discovered secret: 001 with 3 calls to the classical oracle\n"
          ]
        }
      ]
    },
    {
      "cell_type": "markdown",
      "source": [
        "### Notice that classical computers can't do better than len(SECRET_STR) number of calls to our query_str func"
      ],
      "metadata": {
        "id": "ZNTy2dSLQ-Qp"
      }
    },
    {
      "cell_type": "markdown",
      "source": [
        "# Quantum computers can do better than that"
      ],
      "metadata": {
        "id": "3PKUTHpxRoor"
      }
    },
    {
      "cell_type": "code",
      "source": [
        "def q_discover_secret():\n",
        "  # turn our query_secret into a quantum function\n",
        "  # encodo our input bits, and call the quantum algo\n",
        "  # bit_search is creating the quantum oracle \n",
        "  circ = bit_search(SECRET_STR)\n",
        "  res, cts = exec_circuit(circ)\n",
        "  return res, cts\n",
        "res, cts = q_discover_secret()\n",
        "print(res)\n",
        "plot_histogram(cts)"
      ],
      "metadata": {
        "colab": {
          "base_uri": "https://localhost:8080/",
          "height": 377
        },
        "id": "XemjpTkHRzwn",
        "outputId": "7252a7e4-624b-4dc6-88ee-5bd9c1ac1071"
      },
      "execution_count": null,
      "outputs": [
        {
          "output_type": "stream",
          "name": "stdout",
          "text": [
            "Result(backend_name='qasm_simulator', backend_version='0.11.2', qobj_id='e2b39b23-8448-4fe1-8bce-bf48e3abae40', job_id='19dd360b-1f1f-45e8-8fe6-c274138a3acf', success=True, results=[ExperimentResult(shots=1024, success=True, meas_level=2, data=ExperimentResultData(counts={'0x1': 1024}), header=QobjExperimentHeader(clbit_labels=[['c6', 0], ['c6', 1], ['c6', 2]], creg_sizes=[['c6', 3]], global_phase=0.0, memory_slots=3, metadata={}, n_qubits=4, name='circuit-580', qreg_sizes=[['x', 4]], qubit_labels=[['x', 0], ['x', 1], ['x', 2], ['x', 3]]), status=DONE, seed_simulator=3863470236, metadata={'noise': 'ideal', 'batched_shots_optimization': False, 'measure_sampling': True, 'parallel_shots': 1, 'remapped_qubits': False, 'active_input_qubits': [0, 1, 2, 3], 'num_clbits': 3, 'parallel_state_update': 2, 'sample_measure_time': 0.000281352, 'num_qubits': 4, 'device': 'CPU', 'input_qubit_map': [[3, 3], [2, 2], [1, 1], [0, 0]], 'method': 'statevector', 'fusion': {'applied': False, 'max_fused_qubits': 5, 'threshold': 14, 'enabled': True}}, time_taken=0.002738111)], date=2023-01-21T21:53:52.900810, status=COMPLETED, header=QobjHeader(backend_name='qasm_simulator', backend_version='0.11.2'), metadata={'time_taken': 0.003013823, 'time_taken_execute': 0.002788247, 'mpi_rank': 0, 'num_mpi_processes': 1, 'max_gpu_memory_mb': 0, 'max_memory_mb': 12985, 'parallel_experiments': 1, 'time_taken_load_qobj': 0.000214761, 'num_processes_per_experiments': 1, 'omp_enabled': True}, time_taken=0.0032987594604492188)\n"
          ]
        },
        {
          "output_type": "execute_result",
          "data": {
            "text/plain": [
              "<Figure size 504x360 with 1 Axes>"
            ],
            "image/png": "[encoded data removed]"
          },
          "metadata": {},
          "execution_count": 5
        }
      ]
    },
    {
      "cell_type": "markdown",
      "source": [
        "## Attempting to describe some of quantum mechanics's law\n",
        "- In digital computing we usually represent the smallest piece of information\n",
        "with, a bit, by measuring the electricity\n",
        "\n",
        "Logical bit| Physical bit\n",
        "--------   |-------\n",
        "0         | Low Volt \n",
        "1         | Hight Volt\n",
        "\n",
        "- But the scientific comunity has been asking themselves, can we reprsent\n",
        "information wiht a single particle.  \n",
        "- The behaviours of  particles is the domain of quantum mechanics.\n",
        "QM tells that an electron has a property called spin and the spin can be\n",
        "up or down\n",
        "\n",
        "Logical bit| Electron representation\n",
        "--------   |-------\n",
        "0         | Spin Up\n",
        "1         | Spin Down\n",
        "\n",
        "\n",
        "- Additionally scientics in a lab can build a machine that measures the spin\n",
        "of an electron.\n",
        "\n",
        "((( e ))) ====> [[[ Measure Device ]]] = Spin up\n",
        "\n",
        "((( e ))) ====> [[[ Measure Device ]]] = Spin down\n",
        "\n"
      ],
      "metadata": {
        "id": "_6Q7lCmNmJoD"
      }
    },
    {
      "cell_type": "markdown",
      "source": [
        "\n",
        "## First Law of Quantum Mechanics\n",
        "\n",
        "1.  If a particle (eg an electron) can be in a state |0> (or spin up or 0) or |1> (or spin down or 1). Then it can also be in a **superposition** of |0> and |1>, where superposition means that particle can be in:\n",
        "alpha on |0>  and beta on |1>, where alpha and beta are numbers satisfying\n",
        "\n",
        "    alpha ^2 + beta^2 = 1\n",
        "\n",
        "\n",
        "\n",
        "For example:\n",
        "\n",
        "An electron could be in a superposition: \n",
        "- 0.6|0> + 0.8|1>,    but it can also be in state \n",
        "- 0.6|0> - 0.8|1>\n",
        "\n",
        "And that's what we called a qubit\n"
      ],
      "metadata": {
        "id": "0GEQwtla6015"
      }
    },
    {
      "cell_type": "code",
      "source": [
        "from qiskit import QuantumCircuit, Aer, assemble\n",
        "from qiskit.visualization import plot_histogram, plot_bloch_vector\n",
        "\n",
        "\n",
        "## From the qiskit site: https://qiskit.org/textbook/ch-states/representing-qubit-states.html\n",
        "\n",
        "qc = QuantumCircuit(1)  # Create a quantum circuit with one qubit\n",
        "sim = Aer.get_backend('aer_simulator')  # Tell Qiskit how to simulate our circuit\n",
        "initial_state = [1,0]   # Define initial_state as |0>\n",
        "qc.initialize(initial_state, 0) # Apply initialisation operation to the 0th qubit\n",
        "qc.save_statevector()   # Tell simulator to save statevector\n",
        "qobj = assemble(qc)     # Create a Qobj from the circuit for the simulator to run\n",
        "result = sim.run(qobj).result() # Do the simulation and return the result\n",
        "out_state = result.get_statevector()\n",
        "print(out_state) # Display the output state vector\n",
        "\n"
      ],
      "metadata": {
        "colab": {
          "base_uri": "https://localhost:8080/"
        },
        "id": "SJ7tituZ80z3",
        "outputId": "1b8bdb55-226b-4af9-bd78-e1bf4b04efef"
      },
      "execution_count": null,
      "outputs": [
        {
          "output_type": "stream",
          "name": "stdout",
          "text": [
            "Statevector([1.+0.j, 0.+0.j],\n",
            "            dims=(2,))\n"
          ]
        }
      ]
    },
    {
      "cell_type": "code",
      "source": [
        "def single_qubit(initial_state):\n",
        "  sim = Aer.get_backend('aer_simulator')  # Tell Qiskit how to simulate our circuit\n",
        "  qc = QuantumCircuit(1)  # Create a quantum circuit with one qubit\n",
        "  qc.initialize(initial_state, 0) # Apply initialisation operation to the 0th qubit\n",
        "  qc.save_statevector()   # Tell simulator to save statevector\n",
        "  qobj = assemble(qc)     # Create a Qobj from the circuit for the simulator to run\n",
        "  result = sim.run(qobj).result() # Do the simulation and return the result\n",
        "  return result\n",
        "  "
      ],
      "metadata": {
        "id": "0Ewp6pl0AbVc"
      },
      "execution_count": null,
      "outputs": []
    },
    {
      "cell_type": "code",
      "source": [
        "res = single_qubit([0,1])\n",
        "print(res.get_statevector())\n"
      ],
      "metadata": {
        "colab": {
          "base_uri": "https://localhost:8080/"
        },
        "id": "tjLXugv6A_BU",
        "outputId": "4d57f6e9-9d38-41fd-9dcb-06bd41378485"
      },
      "execution_count": null,
      "outputs": [
        {
          "output_type": "stream",
          "name": "stdout",
          "text": [
            "Statevector([0.+0.j, 1.+0.j],\n",
            "            dims=(2,))\n"
          ]
        }
      ]
    },
    {
      "cell_type": "code",
      "source": [
        "res = single_qubit([1,0])\n",
        "print(res.get_statevector())\n",
        "plot_histogram(res.get_counts())"
      ],
      "metadata": {
        "colab": {
          "base_uri": "https://localhost:8080/",
          "height": 359
        },
        "id": "t5LhGTnrCPnh",
        "outputId": "0d2ba2fc-95a2-4c69-9b64-616cc3449a7c"
      },
      "execution_count": null,
      "outputs": [
        {
          "output_type": "stream",
          "name": "stdout",
          "text": [
            "Statevector([1.+0.j, 0.+0.j],\n",
            "            dims=(2,))\n"
          ]
        },
        {
          "output_type": "execute_result",
          "data": {
            "text/plain": [
              "<Figure size 504x360 with 1 Axes>"
            ],
            "image/png": "[encoded data removed]"
          },
          "metadata": {},
          "execution_count": 9
        }
      ]
    },
    {
      "cell_type": "markdown",
      "source": [
        "## Second Quantum Mechanics Law\n",
        "2. For a particle in state:\n",
        "    \n",
        "    alpha|0> and beta|1>\n",
        "\n",
        "  If you measure such particle then:\n",
        "  - You will read |0> with probablity alpha^2\n",
        "  - You will read |1> with probabiblity beta^2\n",
        "\n",
        "  **And**\n",
        "  - If particle was read as |0>, the particle's state changes to 1|0> + 0|0> aka |0>\n",
        "  - If a particle was read as |1> ==> 0|0> + 1|0> aka |1>\n"
      ],
      "metadata": {
        "id": "aJ1FyQXiCrFZ"
      }
    },
    {
      "cell_type": "code",
      "source": [
        "# Setup a qubit with in the state .8|0> + 0.6|1>\n",
        "res = single_qubit([0.8,0.6])\n",
        "print(res.get_statevector())\n",
        "plot_histogram(res.get_counts())"
      ],
      "metadata": {
        "colab": {
          "base_uri": "https://localhost:8080/",
          "height": 359
        },
        "id": "akG1WDZVBzVB",
        "outputId": "f182db56-4d82-4324-b0b5-91ce742b64d5"
      },
      "execution_count": null,
      "outputs": [
        {
          "output_type": "stream",
          "name": "stdout",
          "text": [
            "Statevector([0.8+0.j, 0.6+0.j],\n",
            "            dims=(2,))\n"
          ]
        },
        {
          "output_type": "execute_result",
          "data": {
            "text/plain": [
              "<Figure size 504x360 with 1 Axes>"
            ],
            "image/png": "[encoded data removed]"
          },
          "metadata": {},
          "execution_count": 10
        }
      ]
    },
    {
      "cell_type": "code",
      "source": [
        "# We should expect a failure here since 0.5 ^2 + 0.5 ^2 != 1\n",
        "res = single_qubit([0.5,0.5])\n",
        "print(res.get_statevector())\n",
        "plot_histogram(res.get_counts())"
      ],
      "metadata": {
        "colab": {
          "base_uri": "https://localhost:8080/",
          "height": 371
        },
        "id": "-3yptCyuHFQX",
        "outputId": "5b78a067-1c14-4ab7-a091-24b6e93ceeb9"
      },
      "execution_count": null,
      "outputs": [
        {
          "output_type": "error",
          "ename": "QiskitError",
          "evalue": "ignored",
          "traceback": [
            "\u001b[0;31m---------------------------------------------------------------------------\u001b[0m",
            "\u001b[0;31mQiskitError\u001b[0m                               Traceback (most recent call last)",
            "\u001b[0;32m<ipython-input-12-abd1e7efb12d>\u001b[0m in \u001b[0;36m<module>\u001b[0;34m\u001b[0m\n\u001b[1;32m      1\u001b[0m \u001b[0;31m# We should expect a failure here since 0.5 ^2 + 0.5 ^2 != 1\u001b[0m\u001b[0;34m\u001b[0m\u001b[0;34m\u001b[0m\u001b[0;34m\u001b[0m\u001b[0m\n\u001b[0;32m----> 2\u001b[0;31m \u001b[0mres\u001b[0m \u001b[0;34m=\u001b[0m \u001b[0msingle_qubit\u001b[0m\u001b[0;34m(\u001b[0m\u001b[0;34m[\u001b[0m\u001b[0;36m0.5\u001b[0m\u001b[0;34m,\u001b[0m\u001b[0;36m0.5\u001b[0m\u001b[0;34m]\u001b[0m\u001b[0;34m)\u001b[0m\u001b[0;34m\u001b[0m\u001b[0;34m\u001b[0m\u001b[0m\n\u001b[0m\u001b[1;32m      3\u001b[0m \u001b[0mprint\u001b[0m\u001b[0;34m(\u001b[0m\u001b[0mres\u001b[0m\u001b[0;34m.\u001b[0m\u001b[0mget_statevector\u001b[0m\u001b[0;34m(\u001b[0m\u001b[0;34m)\u001b[0m\u001b[0;34m)\u001b[0m\u001b[0;34m\u001b[0m\u001b[0;34m\u001b[0m\u001b[0m\n\u001b[1;32m      4\u001b[0m \u001b[0mplot_histogram\u001b[0m\u001b[0;34m(\u001b[0m\u001b[0mres\u001b[0m\u001b[0;34m.\u001b[0m\u001b[0mget_counts\u001b[0m\u001b[0;34m(\u001b[0m\u001b[0;34m)\u001b[0m\u001b[0;34m)\u001b[0m\u001b[0;34m\u001b[0m\u001b[0;34m\u001b[0m\u001b[0m\n",
            "\u001b[0;32m<ipython-input-7-730a8617fc08>\u001b[0m in \u001b[0;36msingle_qubit\u001b[0;34m(initial_state)\u001b[0m\n\u001b[1;32m      2\u001b[0m   \u001b[0msim\u001b[0m \u001b[0;34m=\u001b[0m \u001b[0mAer\u001b[0m\u001b[0;34m.\u001b[0m\u001b[0mget_backend\u001b[0m\u001b[0;34m(\u001b[0m\u001b[0;34m'aer_simulator'\u001b[0m\u001b[0;34m)\u001b[0m  \u001b[0;31m# Tell Qiskit how to simulate our circuit\u001b[0m\u001b[0;34m\u001b[0m\u001b[0;34m\u001b[0m\u001b[0m\n\u001b[1;32m      3\u001b[0m   \u001b[0mqc\u001b[0m \u001b[0;34m=\u001b[0m \u001b[0mQuantumCircuit\u001b[0m\u001b[0;34m(\u001b[0m\u001b[0;36m1\u001b[0m\u001b[0;34m)\u001b[0m  \u001b[0;31m# Create a quantum circuit with one qubit\u001b[0m\u001b[0;34m\u001b[0m\u001b[0;34m\u001b[0m\u001b[0m\n\u001b[0;32m----> 4\u001b[0;31m   \u001b[0mqc\u001b[0m\u001b[0;34m.\u001b[0m\u001b[0minitialize\u001b[0m\u001b[0;34m(\u001b[0m\u001b[0minitial_state\u001b[0m\u001b[0;34m,\u001b[0m \u001b[0;36m0\u001b[0m\u001b[0;34m)\u001b[0m \u001b[0;31m# Apply initialisation operation to the 0th qubit\u001b[0m\u001b[0;34m\u001b[0m\u001b[0;34m\u001b[0m\u001b[0m\n\u001b[0m\u001b[1;32m      5\u001b[0m   \u001b[0mqc\u001b[0m\u001b[0;34m.\u001b[0m\u001b[0msave_statevector\u001b[0m\u001b[0;34m(\u001b[0m\u001b[0;34m)\u001b[0m   \u001b[0;31m# Tell simulator to save statevector\u001b[0m\u001b[0;34m\u001b[0m\u001b[0;34m\u001b[0m\u001b[0m\n\u001b[1;32m      6\u001b[0m   \u001b[0mqobj\u001b[0m \u001b[0;34m=\u001b[0m \u001b[0massemble\u001b[0m\u001b[0;34m(\u001b[0m\u001b[0mqc\u001b[0m\u001b[0;34m)\u001b[0m     \u001b[0;31m# Create a Qobj from the circuit for the simulator to run\u001b[0m\u001b[0;34m\u001b[0m\u001b[0;34m\u001b[0m\u001b[0m\n",
            "\u001b[0;32m/usr/local/lib/python3.8/dist-packages/qiskit/extensions/quantum_initializer/initializer.py\u001b[0m in \u001b[0;36minitialize\u001b[0;34m(self, params, qubits)\u001b[0m\n\u001b[1;32m    189\u001b[0m     \u001b[0mnum_qubits\u001b[0m \u001b[0;34m=\u001b[0m \u001b[0mlen\u001b[0m\u001b[0;34m(\u001b[0m\u001b[0mqubits\u001b[0m\u001b[0;34m)\u001b[0m \u001b[0;32mif\u001b[0m \u001b[0misinstance\u001b[0m\u001b[0;34m(\u001b[0m\u001b[0mparams\u001b[0m\u001b[0;34m,\u001b[0m \u001b[0mint\u001b[0m\u001b[0;34m)\u001b[0m \u001b[0;32melse\u001b[0m \u001b[0;32mNone\u001b[0m\u001b[0;34m\u001b[0m\u001b[0;34m\u001b[0m\u001b[0m\n\u001b[1;32m    190\u001b[0m \u001b[0;34m\u001b[0m\u001b[0m\n\u001b[0;32m--> 191\u001b[0;31m     \u001b[0;32mreturn\u001b[0m \u001b[0mself\u001b[0m\u001b[0;34m.\u001b[0m\u001b[0mappend\u001b[0m\u001b[0;34m(\u001b[0m\u001b[0mInitialize\u001b[0m\u001b[0;34m(\u001b[0m\u001b[0mparams\u001b[0m\u001b[0;34m,\u001b[0m \u001b[0mnum_qubits\u001b[0m\u001b[0;34m)\u001b[0m\u001b[0;34m,\u001b[0m \u001b[0mqubits\u001b[0m\u001b[0;34m)\u001b[0m\u001b[0;34m\u001b[0m\u001b[0;34m\u001b[0m\u001b[0m\n\u001b[0m\u001b[1;32m    192\u001b[0m \u001b[0;34m\u001b[0m\u001b[0m\n\u001b[1;32m    193\u001b[0m \u001b[0;34m\u001b[0m\u001b[0m\n",
            "\u001b[0;32m/usr/local/lib/python3.8/dist-packages/qiskit/extensions/quantum_initializer/initializer.py\u001b[0m in \u001b[0;36m__init__\u001b[0;34m(self, params, num_qubits)\u001b[0m\n\u001b[1;32m     55\u001b[0m                 \u001b[0;32mand\u001b[0m \u001b[0mthe\u001b[0m \u001b[0mremaining\u001b[0m \u001b[0;36m3\u001b[0m \u001b[0mqubits\u001b[0m \u001b[0mto\u001b[0m \u001b[0mbe\u001b[0m \u001b[0minitialized\u001b[0m \u001b[0mto\u001b[0m \u001b[0;34m:\u001b[0m\u001b[0mmath\u001b[0m\u001b[0;34m:\u001b[0m\u001b[0;31m`\u001b[0m\u001b[0;34m|\u001b[0m\u001b[0;36m0\u001b[0m\u001b[0;31m\\\u001b[0m\u001b[0mrangle\u001b[0m\u001b[0;31m`\u001b[0m\u001b[0;34m.\u001b[0m\u001b[0;34m\u001b[0m\u001b[0;34m\u001b[0m\u001b[0m\n\u001b[1;32m     56\u001b[0m         \"\"\"\n\u001b[0;32m---> 57\u001b[0;31m         \u001b[0mself\u001b[0m\u001b[0;34m.\u001b[0m\u001b[0m_stateprep\u001b[0m \u001b[0;34m=\u001b[0m \u001b[0mStatePreparation\u001b[0m\u001b[0;34m(\u001b[0m\u001b[0mparams\u001b[0m\u001b[0;34m,\u001b[0m \u001b[0mnum_qubits\u001b[0m\u001b[0;34m)\u001b[0m\u001b[0;34m\u001b[0m\u001b[0;34m\u001b[0m\u001b[0m\n\u001b[0m\u001b[1;32m     58\u001b[0m \u001b[0;34m\u001b[0m\u001b[0m\n\u001b[1;32m     59\u001b[0m         \u001b[0msuper\u001b[0m\u001b[0;34m(\u001b[0m\u001b[0;34m)\u001b[0m\u001b[0;34m.\u001b[0m\u001b[0m__init__\u001b[0m\u001b[0;34m(\u001b[0m\u001b[0;34m\"initialize\"\u001b[0m\u001b[0;34m,\u001b[0m \u001b[0mself\u001b[0m\u001b[0;34m.\u001b[0m\u001b[0m_stateprep\u001b[0m\u001b[0;34m.\u001b[0m\u001b[0mnum_qubits\u001b[0m\u001b[0;34m,\u001b[0m \u001b[0;36m0\u001b[0m\u001b[0;34m,\u001b[0m \u001b[0mself\u001b[0m\u001b[0;34m.\u001b[0m\u001b[0m_stateprep\u001b[0m\u001b[0;34m.\u001b[0m\u001b[0mparams\u001b[0m\u001b[0;34m)\u001b[0m\u001b[0;34m\u001b[0m\u001b[0;34m\u001b[0m\u001b[0m\n",
            "\u001b[0;32m/usr/local/lib/python3.8/dist-packages/qiskit/circuit/library/data_preparation/state_preparation.py\u001b[0m in \u001b[0;36m__init__\u001b[0;34m(self, params, num_qubits, inverse, label)\u001b[0m\n\u001b[1;32m     97\u001b[0m         \u001b[0mself\u001b[0m\u001b[0;34m.\u001b[0m\u001b[0m_from_int\u001b[0m \u001b[0;34m=\u001b[0m \u001b[0misinstance\u001b[0m\u001b[0;34m(\u001b[0m\u001b[0mparams\u001b[0m\u001b[0;34m,\u001b[0m \u001b[0mint\u001b[0m\u001b[0;34m)\u001b[0m\u001b[0;34m\u001b[0m\u001b[0;34m\u001b[0m\u001b[0m\n\u001b[1;32m     98\u001b[0m \u001b[0;34m\u001b[0m\u001b[0m\n\u001b[0;32m---> 99\u001b[0;31m         \u001b[0mnum_qubits\u001b[0m \u001b[0;34m=\u001b[0m \u001b[0mself\u001b[0m\u001b[0;34m.\u001b[0m\u001b[0m_get_num_qubits\u001b[0m\u001b[0;34m(\u001b[0m\u001b[0mnum_qubits\u001b[0m\u001b[0;34m,\u001b[0m \u001b[0mparams\u001b[0m\u001b[0;34m)\u001b[0m\u001b[0;34m\u001b[0m\u001b[0;34m\u001b[0m\u001b[0m\n\u001b[0m\u001b[1;32m    100\u001b[0m \u001b[0;34m\u001b[0m\u001b[0m\n\u001b[1;32m    101\u001b[0m         \u001b[0mparams\u001b[0m \u001b[0;34m=\u001b[0m \u001b[0;34m[\u001b[0m\u001b[0mparams\u001b[0m\u001b[0;34m]\u001b[0m \u001b[0;32mif\u001b[0m \u001b[0misinstance\u001b[0m\u001b[0;34m(\u001b[0m\u001b[0mparams\u001b[0m\u001b[0;34m,\u001b[0m \u001b[0mint\u001b[0m\u001b[0;34m)\u001b[0m \u001b[0;32melse\u001b[0m \u001b[0mparams\u001b[0m\u001b[0;34m\u001b[0m\u001b[0;34m\u001b[0m\u001b[0m\n",
            "\u001b[0;32m/usr/local/lib/python3.8/dist-packages/qiskit/circuit/library/data_preparation/state_preparation.py\u001b[0m in \u001b[0;36m_get_num_qubits\u001b[0;34m(self, num_qubits, params)\u001b[0m\n\u001b[1;32m    200\u001b[0m             \u001b[0;31m# Check if probabilities (amplitudes squared) sum to 1\u001b[0m\u001b[0;34m\u001b[0m\u001b[0;34m\u001b[0m\u001b[0;34m\u001b[0m\u001b[0m\n\u001b[1;32m    201\u001b[0m             \u001b[0;32mif\u001b[0m \u001b[0;32mnot\u001b[0m \u001b[0mmath\u001b[0m\u001b[0;34m.\u001b[0m\u001b[0misclose\u001b[0m\u001b[0;34m(\u001b[0m\u001b[0msum\u001b[0m\u001b[0;34m(\u001b[0m\u001b[0mnp\u001b[0m\u001b[0;34m.\u001b[0m\u001b[0mabsolute\u001b[0m\u001b[0;34m(\u001b[0m\u001b[0mparams\u001b[0m\u001b[0;34m)\u001b[0m \u001b[0;34m**\u001b[0m \u001b[0;36m2\u001b[0m\u001b[0;34m)\u001b[0m\u001b[0;34m,\u001b[0m \u001b[0;36m1.0\u001b[0m\u001b[0;34m,\u001b[0m \u001b[0mabs_tol\u001b[0m\u001b[0;34m=\u001b[0m\u001b[0m_EPS\u001b[0m\u001b[0;34m)\u001b[0m\u001b[0;34m:\u001b[0m\u001b[0;34m\u001b[0m\u001b[0;34m\u001b[0m\u001b[0m\n\u001b[0;32m--> 202\u001b[0;31m                 \u001b[0;32mraise\u001b[0m \u001b[0mQiskitError\u001b[0m\u001b[0;34m(\u001b[0m\u001b[0;34m\"Sum of amplitudes-squared does not equal one.\"\u001b[0m\u001b[0;34m)\u001b[0m\u001b[0;34m\u001b[0m\u001b[0;34m\u001b[0m\u001b[0m\n\u001b[0m\u001b[1;32m    203\u001b[0m \u001b[0;34m\u001b[0m\u001b[0m\n\u001b[1;32m    204\u001b[0m             \u001b[0mnum_qubits\u001b[0m \u001b[0;34m=\u001b[0m \u001b[0mint\u001b[0m\u001b[0;34m(\u001b[0m\u001b[0mnum_qubits\u001b[0m\u001b[0;34m)\u001b[0m\u001b[0;34m\u001b[0m\u001b[0;34m\u001b[0m\u001b[0m\n",
            "\u001b[0;31mQiskitError\u001b[0m: 'Sum of amplitudes-squared does not equal one.'"
          ]
        }
      ]
    },
    {
      "cell_type": "code",
      "source": [
        "# Ok now we can write the simplest of circuits\n",
        "# Initialize a qubit and mesaure it\n",
        "qc = QuantumCircuit(1)\n",
        "qc.initialize([1,0], 0)\n",
        "qc.measure_all()\n",
        "qc.draw()\n"
      ],
      "metadata": {
        "colab": {
          "base_uri": "https://localhost:8080/",
          "height": 94
        },
        "id": "xhishfmcHR0y",
        "outputId": "f8ee519e-7e7a-4817-c2ba-f391cf5dce9e"
      },
      "execution_count": null,
      "outputs": [
        {
          "output_type": "execute_result",
          "data": {
            "text/plain": [
              "        ┌─────────────────┐ ░ ┌─┐\n",
              "     q: ┤ Initialize(1,0) ├─░─┤M├\n",
              "        └─────────────────┘ ░ └╥┘\n",
              "meas: 1/═══════════════════════╩═\n",
              "                               0 "
            ],
            "text/html": [
              "<pre style=\"word-wrap: normal;white-space: pre;background: #fff0;line-height: 1.1;font-family: &quot;Courier New&quot;,Courier,monospace\">        ┌─────────────────┐ ░ ┌─┐\n",
              "     q: ┤ Initialize(1,0) ├─░─┤M├\n",
              "        └─────────────────┘ ░ └╥┘\n",
              "meas: 1/═══════════════════════╩═\n",
              "                               0 </pre>"
            ]
          },
          "metadata": {},
          "execution_count": 35
        }
      ]
    },
    {
      "cell_type": "code",
      "source": [
        "def single_qubit_and_mesure(initial_state):\n",
        "  sim = Aer.get_backend('aer_simulator')  # Tell Qiskit how to simulate our circuit\n",
        "  qc = QuantumCircuit(1)  # Create a quantum circuit with one qubit\n",
        "  qc.initialize(initial_state, 0) # Apply initialisation operation to the 0th qubit\n",
        "  qc.measure_all() # Measure the qubit\n",
        "  qc.save_statevector()   # Tell simulator to save statevector\n",
        "  qobj = assemble(qc)     # Create a Qobj from the circuit for the simulator to run\n",
        "  result = sim.run(qobj).result() # Do the simulation and return the result\n",
        "  return result, qc\n",
        "  "
      ],
      "metadata": {
        "id": "mouV2H07I1F9"
      },
      "execution_count": null,
      "outputs": []
    },
    {
      "cell_type": "code",
      "source": [
        "res, qc = single_qubit_and_mesure([1,0])\n",
        "qc.draw()\n"
      ],
      "metadata": {
        "colab": {
          "base_uri": "https://localhost:8080/",
          "height": 94
        },
        "id": "nE3WtAoJJDp1",
        "outputId": "3a9c1c7f-ec96-4222-c982-0e5ac7664ad4"
      },
      "execution_count": null,
      "outputs": [
        {
          "output_type": "execute_result",
          "data": {
            "text/plain": [
              "        ┌─────────────────┐ ░ ┌─┐ statevector \n",
              "     q: ┤ Initialize(1,0) ├─░─┤M├──────░──────\n",
              "        └─────────────────┘ ░ └╥┘      ░      \n",
              "meas: 1/═══════════════════════╩══════════════\n",
              "                               0              "
            ],
            "text/html": [
              "<pre style=\"word-wrap: normal;white-space: pre;background: #fff0;line-height: 1.1;font-family: &quot;Courier New&quot;,Courier,monospace\">        ┌─────────────────┐ ░ ┌─┐ statevector \n",
              "     q: ┤ Initialize(1,0) ├─░─┤M├──────░──────\n",
              "        └─────────────────┘ ░ └╥┘      ░      \n",
              "meas: 1/═══════════════════════╩══════════════\n",
              "                               0              </pre>"
            ]
          },
          "metadata": {},
          "execution_count": 37
        }
      ]
    },
    {
      "cell_type": "code",
      "source": [
        "from math import sqrt\n",
        "res, qc = single_qubit_and_mesure([1/sqrt(2),1/sqrt(2)])\n",
        "qc.draw()\n",
        "print(res.get_statevector())\n"
      ],
      "metadata": {
        "colab": {
          "base_uri": "https://localhost:8080/"
        },
        "id": "Jc6I4IHfKczs",
        "outputId": "6cf4c25e-d875-447e-b136-dd081747b6c7"
      },
      "execution_count": null,
      "outputs": [
        {
          "output_type": "stream",
          "name": "stdout",
          "text": [
            "Statevector([1.+0.j, 0.+0.j],\n",
            "            dims=(2,))\n"
          ]
        }
      ]
    },
    {
      "cell_type": "markdown",
      "source": [
        "# MultiQbit states\n",
        "(based on [cmu's qc lectures](https://youtu.be/PjenZ60JdVM?list=PLm3J0oaFux3YL5qLskC6xQ24JpMwOAeJz&t=3381) and [Quantum Computation and Quantum Information](https://www.amazon.com/Quantum-Computation-Information-10th-Anniversary/dp/1107002176))\n",
        "- Joint states, unentangled\n",
        "- Joint states, entangled.\n",
        "- Can we use this?\n"
      ],
      "metadata": {
        "id": "Nsy3IMXvn1n_"
      }
    },
    {
      "cell_type": "markdown",
      "source": [
        "## Joint states\n",
        "\n",
        "To begin recall that a quantum bit can be represented via\n",
        "\n",
        "$|\\psi> = a|0> + b|1>$\n",
        "\n",
        "In fact let's introduce one particular state, We'll call this  the \"plus\" state, and we'll use it this state later.\n",
        "\n",
        "$|+> = \\frac{1}{\\sqrt{2}}|0> + \\frac{1}{\\sqrt{2}}|1>$\n",
        "\n",
        "Now that we have an understanding on how to represent the states of single qubits, let's explore what happens when we combine multiple qubits.\n",
        "\n",
        "\n",
        "Imagine Alice has a qubit |psi> and Bob has a qubit on state |phi>\n",
        "\n",
        "The proper way to understand the state of psi and phi is to view them in a joint state (unless they never interact whatsoever). In fact the new |psi> |phi> state is 4 dimensional system, e.g.:\n",
        "\n",
        "$ |\\psi> = 1|0> + 0|1> $\n",
        "\n",
        "$|\\phi> = 0|0> + 1|1> $\n",
        "\n",
        "$|\\psi and \\phi> = 1*0|00> + 1*1|01> + 0*0|10> + 0*1|11> = 1|01>$\n",
        "\n",
        "where |xy>, x represents the basis state of psi and y the basis state of phi\n"
      ],
      "metadata": {
        "id": "Iyb4uQ_D4Ul6"
      }
    },
    {
      "cell_type": "markdown",
      "source": [
        "In general the join state of two qubits is equal to the tensor product of their states:\n",
        "\n",
        "$|\\psi> = a_0|0> + a_1|1>$ and \n",
        "\n",
        "$|\\phi> = b_0|0> + b_1|1>$ \n",
        "\n",
        "$a_0b_0|00> + a_0b_1|01>+a_1b_0|10> + a_1b_1|11>$\n",
        "\n",
        "\\begin{align}\n",
        "\\begin{pmatrix}a_0\\\\a_1 \\end{pmatrix} \\otimes\\begin{pmatrix}b_0\\\\b_1 \\end{pmatrix}\n",
        "\\end{align}\n",
        "\n",
        "eg\n",
        "\n",
        "$|0> \\otimes |0> = \\begin{pmatrix}1\\\\0 \\end{pmatrix} \\otimes\\begin{pmatrix}1\\\\0 \\end{pmatrix} = \\begin{pmatrix}1\\\\0\\\\0\\\\0 \\end{pmatrix} = |00> $"
      ],
      "metadata": {
        "id": "rUqB94GeAKdx"
      }
    },
    {
      "cell_type": "code",
      "source": [
        "from typing import Dict, Tuple, Any\n",
        "def n_qubit_and_mesure(initial_state:Dict[int,Tuple[int,int]]) -> Any:\n",
        "  sim = Aer.get_backend('aer_simulator')  # Tell Qiskit how to simulate our circuit\n",
        "  num_qubits = len(initial_state)\n",
        "  qc = QuantumCircuit(num_qubits)  # Create a quantum circuit with one qubit\n",
        "  for qb, state in initial_state.items():\n",
        "    qc.initialize(state, qb) # Apply initialisation operation to the nth qubit\n",
        "  qc.measure_all() # Measure the qubit\n",
        "  qc.save_statevector()   # Tell simulator to save statevector\n",
        "  qobj = assemble(qc)     # Create a Qobj from the circuit for the simulator to run\n",
        "  result = sim.run(qobj).result() # Do the simulation and return the result\n",
        "  return result, qc\n",
        " "
      ],
      "metadata": {
        "id": "j1AxcoqlFLIY"
      },
      "execution_count": null,
      "outputs": []
    },
    {
      "cell_type": "code",
      "source": [
        "# |00>\n",
        "qb_2 = {\n",
        "    0: (1, 0),\n",
        "    1: (1, 0)\n",
        "}\n",
        "res, qc = n_qubit_and_mesure(qb_2)\n",
        "qc.draw()\n"
      ],
      "metadata": {
        "colab": {
          "base_uri": "https://localhost:8080/",
          "height": 125
        },
        "id": "XmXLicMBHm5Y",
        "outputId": "6b943916-df72-417a-bdda-83fb5981b483"
      },
      "execution_count": null,
      "outputs": [
        {
          "output_type": "execute_result",
          "data": {
            "text/plain": [
              "        ┌─────────────────┐ ░ ┌─┐    statevector \n",
              "   q_0: ┤ Initialize(1,0) ├─░─┤M├─────────░──────\n",
              "        ├─────────────────┤ ░ └╥┘┌─┐      ░      \n",
              "   q_1: ┤ Initialize(1,0) ├─░──╫─┤M├──────░──────\n",
              "        └─────────────────┘ ░  ║ └╥┘      ░      \n",
              "meas: 2/═══════════════════════╩══╩══════════════\n",
              "                               0  1              "
            ],
            "text/html": [
              "<pre style=\"word-wrap: normal;white-space: pre;background: #fff0;line-height: 1.1;font-family: &quot;Courier New&quot;,Courier,monospace\">        ┌─────────────────┐ ░ ┌─┐    statevector \n",
              "   q_0: ┤ Initialize(1,0) ├─░─┤M├─────────░──────\n",
              "        ├─────────────────┤ ░ └╥┘┌─┐      ░      \n",
              "   q_1: ┤ Initialize(1,0) ├─░──╫─┤M├──────░──────\n",
              "        └─────────────────┘ ░  ║ └╥┘      ░      \n",
              "meas: 2/═══════════════════════╩══╩══════════════\n",
              "                               0  1              </pre>"
            ]
          },
          "metadata": {},
          "execution_count": 40
        }
      ]
    },
    {
      "cell_type": "code",
      "source": [
        "print(res.get_statevector())"
      ],
      "metadata": {
        "colab": {
          "base_uri": "https://localhost:8080/"
        },
        "id": "O9Q5MBFwIYBR",
        "outputId": "454cc3e4-70da-40eb-c929-eab8f3dfe601"
      },
      "execution_count": null,
      "outputs": [
        {
          "output_type": "stream",
          "name": "stdout",
          "text": [
            "Statevector([1.+0.j, 0.+0.j, 0.+0.j, 0.+0.j],\n",
            "            dims=(2, 2))\n"
          ]
        }
      ]
    },
    {
      "cell_type": "code",
      "source": [
        "# |01>\n",
        "qb_2 = {\n",
        "    0: (1, 0),\n",
        "    1: (0, 1)\n",
        "}\n",
        "res, qc = n_qubit_and_mesure(qb_2)\n",
        "plot_histogram(res.get_counts())"
      ],
      "metadata": {
        "colab": {
          "base_uri": "https://localhost:8080/",
          "height": 331
        },
        "id": "BsTj29lWIP6r",
        "outputId": "2eb93714-9d8f-45e9-a0c2-4a49f7a3b61d"
      },
      "execution_count": null,
      "outputs": [
        {
          "output_type": "execute_result",
          "data": {
            "text/plain": [
              "<Figure size 504x360 with 1 Axes>"
            ],
            "image/png": "[encoded data removed]"
          },
          "metadata": {},
          "execution_count": 42
        }
      ]
    },
    {
      "cell_type": "code",
      "source": [
        "# |10>\n",
        "qb_2 = {0: (0, 1),\n",
        "    1: (1, 0)\n",
        "}\n",
        "res, qc = n_qubit_and_mesure(qb_2)\n",
        "plot_histogram(res.get_counts())"
      ],
      "metadata": {
        "colab": {
          "base_uri": "https://localhost:8080/",
          "height": 331
        },
        "id": "GroFteKiS1B6",
        "outputId": "5a21dd58-7050-416c-d432-cd21d1a07b62"
      },
      "execution_count": null,
      "outputs": [
        {
          "output_type": "execute_result",
          "data": {
            "text/plain": [
              "<Figure size 504x360 with 1 Axes>"
            ],
            "image/png": "[encoded data removed]"
          },
          "metadata": {},
          "execution_count": 43
        }
      ]
    },
    {
      "cell_type": "code",
      "source": [
        "# |+> x |+> = |++>\n",
        "sqrt_2 = sqrt(2)\n",
        "qb_2 = {\n",
        "    0: (1/sqrt_2, 1/sqrt_2),\n",
        "    1: (1/sqrt_2, 1/sqrt_2)\n",
        "}\n",
        "res, qc = n_qubit_and_mesure(qb_2)\n",
        "sv = res.get_statevector()\n",
        "plot_histogram(res.get_counts())\n",
        "\n",
        "## TODO re-run job on non simualte backends."
      ],
      "metadata": {
        "colab": {
          "base_uri": "https://localhost:8080/",
          "height": 331
        },
        "id": "E_HMPC9bJgfi",
        "outputId": "75ebacb0-1ee3-408e-e506-50b8fa0d9e8f"
      },
      "execution_count": null,
      "outputs": [
        {
          "output_type": "execute_result",
          "data": {
            "text/plain": [
              "<Figure size 504x360 with 1 Axes>"
            ],
            "image/png": "[encoded data removed]"
          },
          "metadata": {},
          "execution_count": 44
        }
      ]
    },
    {
      "cell_type": "code",
      "source": [
        "# |+> x |+> x |+> = |+++>\n",
        "qb_3 = {\n",
        "    0: (1/sqrt_2, 1/sqrt_2),\n",
        "    1: (1/sqrt_2, 1/sqrt_2),\n",
        "    2: (1/sqrt_2, 1/sqrt_2),\n",
        "}\n",
        "res, qc = n_qubit_and_mesure(qb_3)\n",
        "plot_histogram(res.get_counts())"
      ],
      "metadata": {
        "colab": {
          "base_uri": "https://localhost:8080/",
          "height": 340
        },
        "id": "5UbfnDhTMh4O",
        "outputId": "cb87a4e6-1b77-4b75-b54d-24b48f17d24f"
      },
      "execution_count": null,
      "outputs": [
        {
          "output_type": "execute_result",
          "data": {
            "text/plain": [
              "<Figure size 504x360 with 1 Axes>"
            ],
            "image/png": "[encoded data removed]"
          },
          "metadata": {},
          "execution_count": 45
        }
      ]
    },
    {
      "cell_type": "markdown",
      "source": [
        "Now let's highlight the following state:\n",
        "\n",
        "$1/2|00> + 1/2|10> + 1/2|01> + 1/2|11>$  \n",
        "\n",
        "As we saw above this state is no more than the tensor product of\n",
        "\n",
        "$|+> ⊗ |+>$\n",
        "\n",
        "In general any joint state that can be factorted into \n",
        "$|\\psi> ⊗ |Φ>$ does not consitute an entangled state."
      ],
      "metadata": {
        "id": "QcYUR8WuSFeM"
      }
    },
    {
      "cell_type": "markdown",
      "source": [
        "\n"
      ],
      "metadata": {
        "id": "9Ii41D4rVzva"
      }
    },
    {
      "cell_type": "code",
      "source": [
        "sqrt_2 = sqrt(2)\n",
        "## Hmm how are we creating these states?\n",
        "qb_2 = {\n",
        "    0: (1/sqrt_2, 1/sqrt_2),\n",
        "    1: (1/sqrt_2, 1/sqrt_2)\n",
        "}\n",
        "res, qc = n_qubit_and_mesure(qb_2)\n",
        "qc.draw()\n"
      ],
      "metadata": {
        "colab": {
          "base_uri": "https://localhost:8080/",
          "height": 125
        },
        "id": "H3zKxZoWOJDS",
        "outputId": "6b225df8-6b5c-4c74-d140-a3b8bf86efef"
      },
      "execution_count": null,
      "outputs": [
        {
          "output_type": "execute_result",
          "data": {
            "text/plain": [
              "        ┌─────────────────────────────┐ ░ ┌─┐    statevector \n",
              "   q_0: ┤ Initialize(0.70711,0.70711) ├─░─┤M├─────────░──────\n",
              "        ├─────────────────────────────┤ ░ └╥┘┌─┐      ░      \n",
              "   q_1: ┤ Initialize(0.70711,0.70711) ├─░──╫─┤M├──────░──────\n",
              "        └─────────────────────────────┘ ░  ║ └╥┘      ░      \n",
              "meas: 2/═══════════════════════════════════╩══╩══════════════\n",
              "                                           0  1              "
            ],
            "text/html": [
              "<pre style=\"word-wrap: normal;white-space: pre;background: #fff0;line-height: 1.1;font-family: &quot;Courier New&quot;,Courier,monospace\">        ┌─────────────────────────────┐ ░ ┌─┐    statevector \n",
              "   q_0: ┤ Initialize(0.70711,0.70711) ├─░─┤M├─────────░──────\n",
              "        ├─────────────────────────────┤ ░ └╥┘┌─┐      ░      \n",
              "   q_1: ┤ Initialize(0.70711,0.70711) ├─░──╫─┤M├──────░──────\n",
              "        └─────────────────────────────┘ ░  ║ └╥┘      ░      \n",
              "meas: 2/═══════════════════════════════════╩══╩══════════════\n",
              "                                           0  1              </pre>"
            ]
          },
          "metadata": {},
          "execution_count": 46
        }
      ]
    },
    {
      "cell_type": "markdown",
      "source": [
        "Let's introduce two operations\n",
        "\n",
        "- Hadamard or [H] transforms |0> -> |+>\n",
        "- Controlled NOT or CNOT:\n",
        "  - Acts on 2 qubits: a control and a target qubit\n",
        "  - Control qubit never changes\n",
        "  - Target qubits: Flips if the control bit is |1>, otherwise stays the same."
      ],
      "metadata": {
        "id": "djKq6C1FV-PJ"
      }
    },
    {
      "cell_type": "code",
      "source": [
        "def simple_hadamard(num_qubits = 1) -> Any:\n",
        "  sim = Aer.get_backend('aer_simulator')  # Tell Qiskit how to simulate our circuit\n",
        "  qc = QuantumCircuit(num_qubits)  # Create a quantum circuit with one qubit\n",
        "  qc.h(0)\n",
        "  qc.measure_all() # Measure the qubit\n",
        "  qc.save_statevector()   # Tell simulator to save statevector\n",
        "  qobj = assemble(qc)     # Create a Qobj from the circuit for the simulator to run\n",
        "  result = sim.run(qobj).result() # Do the simulation and return the result\n",
        "  return result, qc\n",
        "\n",
        "res, qc = simple_hadamard()\n",
        "qc.draw()"
      ],
      "metadata": {
        "colab": {
          "base_uri": "https://localhost:8080/",
          "height": 94
        },
        "id": "vIqCYBoyXDWQ",
        "outputId": "86ef1335-7194-43bf-e9d6-0f2e17aac0b3"
      },
      "execution_count": null,
      "outputs": [
        {
          "output_type": "execute_result",
          "data": {
            "text/plain": [
              "        ┌───┐ ░ ┌─┐ statevector \n",
              "     q: ┤ H ├─░─┤M├──────░──────\n",
              "        └───┘ ░ └╥┘      ░      \n",
              "meas: 1/═════════╩══════════════\n",
              "                 0              "
            ],
            "text/html": [
              "<pre style=\"word-wrap: normal;white-space: pre;background: #fff0;line-height: 1.1;font-family: &quot;Courier New&quot;,Courier,monospace\">        ┌───┐ ░ ┌─┐ statevector \n",
              "     q: ┤ H ├─░─┤M├──────░──────\n",
              "        └───┘ ░ └╥┘      ░      \n",
              "meas: 1/═════════╩══════════════\n",
              "                 0              </pre>"
            ]
          },
          "metadata": {},
          "execution_count": 47
        }
      ]
    },
    {
      "cell_type": "code",
      "source": [
        "## 1/sqrt(2)(|0> + |1>)\n",
        "plot_histogram(res.get_counts())"
      ],
      "metadata": {
        "colab": {
          "base_uri": "https://localhost:8080/",
          "height": 324
        },
        "id": "QoUKZWIPYhwB",
        "outputId": "290971c4-0fe7-4c0e-81a3-a6f9c5f6eb08"
      },
      "execution_count": null,
      "outputs": [
        {
          "output_type": "execute_result",
          "data": {
            "text/plain": [
              "<Figure size 504x360 with 1 Axes>"
            ],
            "image/png": "[encoded data removed]"
          },
          "metadata": {},
          "execution_count": 48
        }
      ]
    },
    {
      "cell_type": "code",
      "source": [
        "def simple_cnot(initial_state={0: (1, 0), 1: (1, 0)}) -> Any:\n",
        "  if initial_state:\n",
        "    assert len(initial_state) == 2, \"only 2 qubits\"\n",
        "  num_qubits = 2 \n",
        "  sim = Aer.get_backend('aer_simulator')  # Tell Qiskit how to simulate our circuit\n",
        "  qc = QuantumCircuit(num_qubits)  # Create a quantum circuit with one qubit\n",
        "  for qb, state in initial_state.items():\n",
        "    qc.initialize(state, qb) # Apply initialisation operation to the nth qubi\n",
        "  qc.cnot(0,1)\n",
        "  qc.measure_all() # Measure the qubit\n",
        "  qc.save_statevector()   # Tell simulator to save statevector\n",
        "  qobj = assemble(qc)     # Create a Qobj from the circuit for the simulator to run\n",
        "  result = sim.run(qobj).result() # Do the simulation and return the result\n",
        "  return result, qc\n",
        "\n",
        "res, qc = simple_cnot()\n",
        "qc.draw()"
      ],
      "metadata": {
        "colab": {
          "base_uri": "https://localhost:8080/",
          "height": 125
        },
        "id": "_rHjIOwOYw1l",
        "outputId": "c8fd973f-f95a-433b-b0f6-20c882ed13fa"
      },
      "execution_count": null,
      "outputs": [
        {
          "output_type": "execute_result",
          "data": {
            "text/plain": [
              "        ┌─────────────────┐      ░ ┌─┐    statevector \n",
              "   q_0: ┤ Initialize(1,0) ├──■───░─┤M├─────────░──────\n",
              "        ├─────────────────┤┌─┴─┐ ░ └╥┘┌─┐      ░      \n",
              "   q_1: ┤ Initialize(1,0) ├┤ X ├─░──╫─┤M├──────░──────\n",
              "        └─────────────────┘└───┘ ░  ║ └╥┘      ░      \n",
              "meas: 2/════════════════════════════╩══╩══════════════\n",
              "                                    0  1              "
            ],
            "text/html": [
              "<pre style=\"word-wrap: normal;white-space: pre;background: #fff0;line-height: 1.1;font-family: &quot;Courier New&quot;,Courier,monospace\">        ┌─────────────────┐      ░ ┌─┐    statevector \n",
              "   q_0: ┤ Initialize(1,0) ├──■───░─┤M├─────────░──────\n",
              "        ├─────────────────┤┌─┴─┐ ░ └╥┘┌─┐      ░      \n",
              "   q_1: ┤ Initialize(1,0) ├┤ X ├─░──╫─┤M├──────░──────\n",
              "        └─────────────────┘└───┘ ░  ║ └╥┘      ░      \n",
              "meas: 2/════════════════════════════╩══╩══════════════\n",
              "                                    0  1              </pre>"
            ]
          },
          "metadata": {},
          "execution_count": 49
        }
      ]
    },
    {
      "cell_type": "code",
      "source": [
        "plot_histogram(res.get_counts())"
      ],
      "metadata": {
        "colab": {
          "base_uri": "https://localhost:8080/",
          "height": 331
        },
        "id": "Df1uvuU4aKCs",
        "outputId": "2d79d7c4-27ab-4055-ef8c-58159429cbe2"
      },
      "execution_count": null,
      "outputs": [
        {
          "output_type": "execute_result",
          "data": {
            "text/plain": [
              "<Figure size 504x360 with 1 Axes>"
            ],
            "image/png": "[encoded data removed]"
          },
          "metadata": {},
          "execution_count": 50
        }
      ]
    },
    {
      "cell_type": "code",
      "source": [
        "res, qc = simple_cnot(initial_state={0: (0, 1), 1:(1, 0)})\n",
        "plot_histogram(res.get_counts())\n"
      ],
      "metadata": {
        "colab": {
          "base_uri": "https://localhost:8080/",
          "height": 331
        },
        "id": "NzIlzjZlaRiP",
        "outputId": "480e75b5-6c68-4c6f-d90a-de050d44165c"
      },
      "execution_count": null,
      "outputs": [
        {
          "output_type": "execute_result",
          "data": {
            "text/plain": [
              "<Figure size 504x360 with 1 Axes>"
            ],
            "image/png": "[encoded data removed]"
          },
          "metadata": {},
          "execution_count": 51
        }
      ]
    },
    {
      "cell_type": "code",
      "source": [
        "def bell_state() -> Any:\n",
        "  sim = Aer.get_backend('aer_simulator')  # Tell Qiskit how to simulate our circuit\n",
        "  qc = QuantumCircuit(2)  # Create a quantum circuit \n",
        "  qc.h(0)\n",
        "  qc.cnot(0, 1)\n",
        "  qc.measure_all() # Measure the qubit\n",
        "  qc.save_statevector()   # Tell simulator to save statevector\n",
        "  qobj = assemble(qc)     # Create a Qobj from the circuit for the simulator to run\n",
        "  result = sim.run(qobj).result() # Do the simulation and return the result\n",
        "  return result, qc\n",
        "res, qc = bell_state()\n",
        "qc.draw()"
      ],
      "metadata": {
        "colab": {
          "base_uri": "https://localhost:8080/",
          "height": 125
        },
        "id": "g7shFugXajr4",
        "outputId": "c61a87ee-2d4c-4238-c01f-666577d3d312"
      },
      "execution_count": null,
      "outputs": [
        {
          "output_type": "execute_result",
          "data": {
            "text/plain": [
              "        ┌───┐      ░ ┌─┐    statevector \n",
              "   q_0: ┤ H ├──■───░─┤M├─────────░──────\n",
              "        └───┘┌─┴─┐ ░ └╥┘┌─┐      ░      \n",
              "   q_1: ─────┤ X ├─░──╫─┤M├──────░──────\n",
              "             └───┘ ░  ║ └╥┘      ░      \n",
              "meas: 2/══════════════╩══╩══════════════\n",
              "                      0  1              "
            ],
            "text/html": [
              "<pre style=\"word-wrap: normal;white-space: pre;background: #fff0;line-height: 1.1;font-family: &quot;Courier New&quot;,Courier,monospace\">        ┌───┐      ░ ┌─┐    statevector \n",
              "   q_0: ┤ H ├──■───░─┤M├─────────░──────\n",
              "        └───┘┌─┴─┐ ░ └╥┘┌─┐      ░      \n",
              "   q_1: ─────┤ X ├─░──╫─┤M├──────░──────\n",
              "             └───┘ ░  ║ └╥┘      ░      \n",
              "meas: 2/══════════════╩══╩══════════════\n",
              "                      0  1              </pre>"
            ]
          },
          "metadata": {},
          "execution_count": 52
        }
      ]
    },
    {
      "cell_type": "code",
      "source": [
        "plot_histogram(res.get_counts())\n"
      ],
      "metadata": {
        "colab": {
          "base_uri": "https://localhost:8080/",
          "height": 331
        },
        "id": "hu7mDB7HbMGH",
        "outputId": "7f786c49-9d46-4bfd-8891-243dc53546d9"
      },
      "execution_count": null,
      "outputs": [
        {
          "output_type": "execute_result",
          "data": {
            "text/plain": [
              "<Figure size 504x360 with 1 Axes>"
            ],
            "image/png": "[encoded data removed]"
          },
          "metadata": {},
          "execution_count": 53
        }
      ]
    },
    {
      "cell_type": "markdown",
      "source": [
        "The circuit above created an interesting state, namely:\n",
        "\n",
        "$\\frac{1}{\\sqrt{2}}|00> + \\frac{1}{\\sqrt{2}}|11>$\n",
        "\n",
        "We call this the Bell State (or an EPR pair)\n",
        "\n",
        "Notice this can not be represented as a tensor product of two qubits, thus we call the above state entangled.\n",
        "\n",
        "Formally an entangled joint state is not of the form: $|\\psi> \\otimes |\\phi>$\n",
        "\n"
      ],
      "metadata": {
        "id": "TcVDvwmKbcjz"
      }
    },
    {
      "cell_type": "markdown",
      "source": [
        "An important detail of an entangle pair of qubits is that.\n",
        " - There is a 50% chance of measuring  $ |\\psi> = |0>$ but if we we'll immediatly know that $|Φ> = |0>$, **regardless of phi's location.**"
      ],
      "metadata": {
        "id": "FwiiXwbOu-C2"
      }
    },
    {
      "cell_type": "markdown",
      "source": [
        "# No cloning\n",
        "Let's review a fundamental property of quantum information.\n",
        "\n",
        "Given a state $|\\psi>$, there is not way to copy such state.\n",
        "Consider the following circuit.\n"
      ],
      "metadata": {
        "id": "UcnKGKLaUC7X"
      }
    },
    {
      "cell_type": "code",
      "source": [
        "from math import sqrt as sr\n",
        "def random_amplitudes_sqr() -> Tuple[float, float]:\n",
        "  import random\n",
        "  import math\n",
        "  alpha = random.random()\n",
        "  beta_sq = 1 - alpha * alpha\n",
        "  return alpha*alpha, beta_sq\n",
        "\n",
        "a, b = random_amplitudes_sqr()\n",
        "assert a + b == 1.0\n"
      ],
      "metadata": {
        "id": "j2T2YyIQX3kJ"
      },
      "execution_count": null,
      "outputs": []
    },
    {
      "cell_type": "code",
      "source": [
        "res, qc = simple_cnot(initial_state={0: (sr(a),sr(b)), 1: (1, 0)})\n",
        "plot_histogram(res.get_counts())"
      ],
      "metadata": {
        "colab": {
          "base_uri": "https://localhost:8080/",
          "height": 333
        },
        "id": "k9GINW0LjQdd",
        "outputId": "bf82d9f9-8b31-4bd9-d073-348a8cc9f850"
      },
      "execution_count": null,
      "outputs": [
        {
          "output_type": "execute_result",
          "data": {
            "text/plain": [
              "<Figure size 504x360 with 1 Axes>"
            ],
            "image/png": "[encoded data removed]"
          },
          "metadata": {},
          "execution_count": 55
        }
      ]
    },
    {
      "cell_type": "markdown",
      "source": [
        "However the below does not make a lot of sense were are missing the |01> and |01> states, since we know that the \n",
        "resulting state must be of the form\n",
        "\n",
        "$|\\psi>|\\psi> = a^2|00> a*b|01> + a*b|10> + b^2|11>$\n",
        "\n",
        "It is in fact impossible to make a copy of a arbitrary state $|\\psi>$ and this property is known as the **no-cloning** theorem\n"
      ],
      "metadata": {
        "id": "_yrmf7EVgvE7"
      }
    },
    {
      "cell_type": "markdown",
      "source": [
        "# Quantum Teleportation\n",
        "\n",
        "Ok we can't copy a qubit state, but can we move it? (without measuring it of course, since measuring the qubit destroys the state)\n",
        "\n",
        " Yes we can, but it relies on classical information as well as quantum information. \n",
        "\n",
        "Here is the outline of the process\n",
        "\n",
        "A wants to send an arbitrary state $|\\psi>$ to B.\n",
        "\n",
        "1. A and B prepare an EPR pair of qubits, A stays with one of the qubits and B keeps the second one.\n",
        "2. A puts her qubits through a the circuit below\n",
        "3. Finally A measures both her qubits, one of the entangle pairs and the one she wishes to move.\n",
        "4. A communicates to B (over a classical channel) the result of the measurement and B does the following\n",
        "\n",
        "A measurment| Final Joint State|Action\n",
        "------| -------|------\n",
        "00 |$a|0> + b|1>$ | do nothing, B's qubit alread has the state.\n",
        "01 |$a|1> + b|0>$ | Apply an X gate to B's qubit.\n",
        "10 |$a|0> - b|1>$ | Apply an Z gate to B's qubit.\n",
        "11 |$a|1> + b|1>$ | Apply an Z,X gate to B's qubit.\n",
        "\n",
        "\n",
        "After the operations above the state arbitrary state $|\\psi>$ is now with B"
      ],
      "metadata": {
        "id": "6NSLZ2A_TVST"
      }
    },
    {
      "cell_type": "code",
      "source": [
        "def teleportation() -> Any:\n",
        "  sim = Aer.get_backend('aer_simulator')  # Tell Qiskit how to simulate our circuit\n",
        "  qc = QuantumCircuit(3,3)  # Create a quantum circuit \n",
        "  qc.h(1)\n",
        "  qc.cnot(1, 2)\n",
        "  qc.cnot(0, 1)\n",
        "  qc.h(0)\n",
        "  qc.barrier()\n",
        "  qc.measure(0,0) # Measure arbirary q qubit\n",
        "  qc.measure(1,1) # Measure one of the entagled qubit\n",
        "  qc.z(2).c_if(0, 1)\n",
        "  qc.x(2).c_if(1, 1)\n",
        "  qc.measure(2,2)\n",
        "  qc.save_statevector()   # Tell simulator to save statevector\n",
        "  qobj = assemble(qc)     # Create a Qobj from the circuit for the simulator to run\n",
        "  result = sim.run(qobj).result() # Do the simulation and return the result\n",
        "  return result, qc\n",
        "res, qc = teleportation()\n",
        "qc.draw()"
      ],
      "metadata": {
        "colab": {
          "base_uri": "https://localhost:8080/",
          "height": 171
        },
        "id": "7Ib16iFXpmbC",
        "outputId": "ad62331b-bfc8-4c5a-c4db-70bc7dde7107"
      },
      "execution_count": null,
      "outputs": [
        {
          "output_type": "execute_result",
          "data": {
            "text/plain": [
              "                    ┌───┐ ░ ┌─┐                             statevector \n",
              "q_0: ────────────■──┤ H ├─░─┤M├──────────────────────────────────░──────\n",
              "     ┌───┐     ┌─┴─┐└───┘ ░ └╥┘┌─┐                               ░      \n",
              "q_1: ┤ H ├──■──┤ X ├──────░──╫─┤M├───────────────────────────────░──────\n",
              "     └───┘┌─┴─┐└───┘      ░  ║ └╥┘   ┌───┐      ┌───┐   ┌─┐      ░      \n",
              "q_2: ─────┤ X ├───────────░──╫──╫────┤ Z ├──────┤ X ├───┤M├──────░──────\n",
              "          └───┘           ░  ║  ║    └─╥─┘      └─╥─┘   └╥┘      ░      \n",
              "                             ║  ║ ┌────╨────┐┌────╨────┐ ║              \n",
              "c: 3/════════════════════════╩══╩═╡ c_0=0x1 ╞╡ c_1=0x1 ╞═╩══════════════\n",
              "                             0  1 └─────────┘└─────────┘ 2              "
            ],
            "text/html": [
              "<pre style=\"word-wrap: normal;white-space: pre;background: #fff0;line-height: 1.1;font-family: &quot;Courier New&quot;,Courier,monospace\">                    ┌───┐ ░ ┌─┐                             statevector \n",
              "q_0: ────────────■──┤ H ├─░─┤M├──────────────────────────────────░──────\n",
              "     ┌───┐     ┌─┴─┐└───┘ ░ └╥┘┌─┐                               ░      \n",
              "q_1: ┤ H ├──■──┤ X ├──────░──╫─┤M├───────────────────────────────░──────\n",
              "     └───┘┌─┴─┐└───┘      ░  ║ └╥┘   ┌───┐      ┌───┐   ┌─┐      ░      \n",
              "q_2: ─────┤ X ├───────────░──╫──╫────┤ Z ├──────┤ X ├───┤M├──────░──────\n",
              "          └───┘           ░  ║  ║    └─╥─┘      └─╥─┘   └╥┘      ░      \n",
              "                             ║  ║ ┌────╨────┐┌────╨────┐ ║              \n",
              "c: 3/════════════════════════╩══╩═╡ c_0=0x1 ╞╡ c_1=0x1 ╞═╩══════════════\n",
              "                             0  1 └─────────┘└─────────┘ 2              </pre>"
            ]
          },
          "metadata": {},
          "execution_count": 56
        }
      ]
    }
  ]
}